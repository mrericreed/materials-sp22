{
 "cells": [
  {
   "cell_type": "code",
   "execution_count": 9,
   "id": "1a883006",
   "metadata": {},
   "outputs": [],
   "source": [
    "days_in_week = 7"
   ]
  },
  {
   "cell_type": "code",
   "execution_count": 10,
   "id": "afcc2fa3",
   "metadata": {},
   "outputs": [],
   "source": [
    "salary = 19.25"
   ]
  },
  {
   "cell_type": "code",
   "execution_count": 11,
   "id": "097ffc76",
   "metadata": {},
   "outputs": [
    {
     "data": {
      "text/plain": [
       "int"
      ]
     },
     "execution_count": 11,
     "metadata": {},
     "output_type": "execute_result"
    }
   ],
   "source": [
    "type(days_in_week)"
   ]
  },
  {
   "cell_type": "code",
   "execution_count": 13,
   "id": "740f60c7",
   "metadata": {},
   "outputs": [
    {
     "data": {
      "text/plain": [
       "float"
      ]
     },
     "execution_count": 13,
     "metadata": {},
     "output_type": "execute_result"
    }
   ],
   "source": [
    "type(salary)"
   ]
  },
  {
   "cell_type": "code",
   "execution_count": 17,
   "id": "1d247d0c",
   "metadata": {},
   "outputs": [],
   "source": [
    "really_big_number = 123483 ** 234"
   ]
  },
  {
   "cell_type": "code",
   "execution_count": 18,
   "id": "eb7ef35d",
   "metadata": {},
   "outputs": [
    {
     "data": {
      "text/plain": [
       "int"
      ]
     },
     "execution_count": 18,
     "metadata": {},
     "output_type": "execute_result"
    }
   ],
   "source": [
    "type(really_big_number)"
   ]
  },
  {
   "cell_type": "code",
   "execution_count": 19,
   "id": "e45581db",
   "metadata": {},
   "outputs": [
    {
     "data": {
      "text/plain": [
       "2729469593958007803483462072032312676928169474289947954404808424092388996130822990873778564774934450605407850361388868113789764521285536572170717473444687539814100737724039140553751170686624830153014363756992844397598295308654905332559499689842061639091534303516829987861369016760413300593921091187641485026724683251323679692532228804156582018321187302208332525083642691740026202757221579625096901761927417060660608552029743310842208243397459892877844938770560249463226792509216725211341649208023262237864169406746143054197531794306107903904884168297123750583777553684679851522712541021715397638741084450239856065405838350624424739361101468399354534597423758304843849031530639316426852855943705489344091214164675843007768142052627904053560142743258072222639995760434123851973232660404193776141472758721015877899085333646016288146775822390148801326526348778984446308434562257358476323665815063456511147096684935794369488938804250544588885190375537727764111152928791820283680510150048466172514277292805311116331266521954736832860998773677333401007742564226631043655278937819065611328704642890506427337121141055707045039187019371179423075741926527260885681631149929626912260071465725600469638329"
      ]
     },
     "execution_count": 19,
     "metadata": {},
     "output_type": "execute_result"
    }
   ],
   "source": [
    "really_big_number"
   ]
  },
  {
   "cell_type": "code",
   "execution_count": 20,
   "id": "75ffd6a2",
   "metadata": {},
   "outputs": [
    {
     "data": {
      "text/plain": [
       "float"
      ]
     },
     "execution_count": 20,
     "metadata": {},
     "output_type": "execute_result"
    }
   ],
   "source": [
    "type(salary)"
   ]
  },
  {
   "cell_type": "code",
   "execution_count": 21,
   "id": "c933ee69",
   "metadata": {},
   "outputs": [],
   "source": [
    "salary = salary ** 50"
   ]
  },
  {
   "cell_type": "code",
   "execution_count": 22,
   "id": "902e1bca",
   "metadata": {},
   "outputs": [
    {
     "data": {
      "text/plain": [
       "float"
      ]
     },
     "execution_count": 22,
     "metadata": {},
     "output_type": "execute_result"
    }
   ],
   "source": [
    "type(salary)"
   ]
  },
  {
   "cell_type": "code",
   "execution_count": 23,
   "id": "6b48d006",
   "metadata": {},
   "outputs": [
    {
     "data": {
      "text/plain": [
       "1.6654695323197608e+64"
      ]
     },
     "execution_count": 23,
     "metadata": {},
     "output_type": "execute_result"
    }
   ],
   "source": [
    "salary"
   ]
  },
  {
   "cell_type": "code",
   "execution_count": 24,
   "id": "db483ee0",
   "metadata": {},
   "outputs": [
    {
     "data": {
      "text/plain": [
       "True"
      ]
     },
     "execution_count": 24,
     "metadata": {},
     "output_type": "execute_result"
    }
   ],
   "source": [
    "1 + 1 == 2"
   ]
  },
  {
   "cell_type": "code",
   "execution_count": 25,
   "id": "72cf702f",
   "metadata": {},
   "outputs": [
    {
     "data": {
      "text/plain": [
       "True"
      ]
     },
     "execution_count": 25,
     "metadata": {},
     "output_type": "execute_result"
    }
   ],
   "source": [
    ".1 + .1 == .2"
   ]
  },
  {
   "cell_type": "code",
   "execution_count": 26,
   "id": "d1004ee3",
   "metadata": {},
   "outputs": [
    {
     "data": {
      "text/plain": [
       "False"
      ]
     },
     "execution_count": 26,
     "metadata": {},
     "output_type": "execute_result"
    }
   ],
   "source": [
    ".1 + .1 + .1 == .3"
   ]
  },
  {
   "cell_type": "code",
   "execution_count": 27,
   "id": "ef20c00f",
   "metadata": {},
   "outputs": [],
   "source": [
    "num_one = 1\n",
    "num_two = .3\n",
    "num_three = num_one + num_two"
   ]
  },
  {
   "cell_type": "code",
   "execution_count": 28,
   "id": "f3d321a6",
   "metadata": {},
   "outputs": [
    {
     "data": {
      "text/plain": [
       "1.3"
      ]
     },
     "execution_count": 28,
     "metadata": {},
     "output_type": "execute_result"
    }
   ],
   "source": [
    "num_three"
   ]
  },
  {
   "cell_type": "code",
   "execution_count": 29,
   "id": "45d53dd2",
   "metadata": {},
   "outputs": [
    {
     "data": {
      "text/plain": [
       "float"
      ]
     },
     "execution_count": 29,
     "metadata": {},
     "output_type": "execute_result"
    }
   ],
   "source": [
    "type(3/1)"
   ]
  },
  {
   "cell_type": "code",
   "execution_count": 30,
   "id": "53056a5e",
   "metadata": {},
   "outputs": [],
   "source": [
    "today = \"Tuesday\""
   ]
  },
  {
   "cell_type": "code",
   "execution_count": 31,
   "id": "9b037c6e",
   "metadata": {},
   "outputs": [
    {
     "data": {
      "text/plain": [
       "str"
      ]
     },
     "execution_count": 31,
     "metadata": {},
     "output_type": "execute_result"
    }
   ],
   "source": [
    "type(today)"
   ]
  },
  {
   "cell_type": "code",
   "execution_count": 32,
   "id": "f579c76f",
   "metadata": {},
   "outputs": [
    {
     "ename": "TypeError",
     "evalue": "can only concatenate str (not \"int\") to str",
     "output_type": "error",
     "traceback": [
      "\u001b[0;31m---------------------------------------------------------------------------\u001b[0m",
      "\u001b[0;31mTypeError\u001b[0m                                 Traceback (most recent call last)",
      "Cell \u001b[0;32mIn[32], line 1\u001b[0m\n\u001b[0;32m----> 1\u001b[0m \u001b[43mtoday\u001b[49m\u001b[43m \u001b[49m\u001b[38;5;241;43m+\u001b[39;49m\u001b[43m \u001b[49m\u001b[43mnum_one\u001b[49m\n",
      "\u001b[0;31mTypeError\u001b[0m: can only concatenate str (not \"int\") to str"
     ]
    }
   ],
   "source": [
    "today + num_one"
   ]
  },
  {
   "cell_type": "code",
   "execution_count": 33,
   "id": "3b85e4e5",
   "metadata": {},
   "outputs": [
    {
     "data": {
      "text/plain": [
       "'repeatrepeatrepeatrepeatrepeatrepeatrepeatrepeatrepeatrepeat'"
      ]
     },
     "execution_count": 33,
     "metadata": {},
     "output_type": "execute_result"
    }
   ],
   "source": [
    "\"repeat\" * 10"
   ]
  },
  {
   "cell_type": "code",
   "execution_count": 34,
   "id": "9fed9149",
   "metadata": {},
   "outputs": [
    {
     "ename": "TypeError",
     "evalue": "can't multiply sequence by non-int of type 'float'",
     "output_type": "error",
     "traceback": [
      "\u001b[0;31m---------------------------------------------------------------------------\u001b[0m",
      "\u001b[0;31mTypeError\u001b[0m                                 Traceback (most recent call last)",
      "Cell \u001b[0;32mIn[34], line 1\u001b[0m\n\u001b[0;32m----> 1\u001b[0m \u001b[38;5;124;43m\"\u001b[39;49m\u001b[38;5;124;43mrepeat\u001b[39;49m\u001b[38;5;124;43m\"\u001b[39;49m\u001b[43m \u001b[49m\u001b[38;5;241;43m*\u001b[39;49m\u001b[43m \u001b[49m\u001b[38;5;241;43m.1\u001b[39;49m\n",
      "\u001b[0;31mTypeError\u001b[0m: can't multiply sequence by non-int of type 'float'"
     ]
    }
   ],
   "source": [
    "\"repeat\" * .1"
   ]
  },
  {
   "cell_type": "code",
   "execution_count": 35,
   "id": "b01c9f53",
   "metadata": {},
   "outputs": [
    {
     "data": {
      "text/plain": [
       "'hellothere'"
      ]
     },
     "execution_count": 35,
     "metadata": {},
     "output_type": "execute_result"
    }
   ],
   "source": [
    "\"hello\" + \"there\""
   ]
  },
  {
   "cell_type": "code",
   "execution_count": 36,
   "id": "b32a2a29",
   "metadata": {},
   "outputs": [
    {
     "data": {
      "text/plain": [
       "'hello there'"
      ]
     },
     "execution_count": 36,
     "metadata": {},
     "output_type": "execute_result"
    }
   ],
   "source": [
    "\"hello\" + \" there\""
   ]
  },
  {
   "cell_type": "code",
   "execution_count": 37,
   "id": "a40937a6",
   "metadata": {},
   "outputs": [
    {
     "data": {
      "text/plain": [
       "'hello there'"
      ]
     },
     "execution_count": 37,
     "metadata": {},
     "output_type": "execute_result"
    }
   ],
   "source": [
    "\"hello\" + \" \" + \"there\""
   ]
  },
  {
   "cell_type": "code",
   "execution_count": 38,
   "id": "dbcf88ad",
   "metadata": {},
   "outputs": [],
   "source": [
    "space = \" \""
   ]
  },
  {
   "cell_type": "code",
   "execution_count": 39,
   "id": "822fc7b6",
   "metadata": {},
   "outputs": [
    {
     "data": {
      "text/plain": [
       "'hello there'"
      ]
     },
     "execution_count": 39,
     "metadata": {},
     "output_type": "execute_result"
    }
   ],
   "source": [
    "\"hello\" + space + \"there\""
   ]
  },
  {
   "cell_type": "code",
   "execution_count": 40,
   "id": "e3cf2cca",
   "metadata": {},
   "outputs": [
    {
     "ename": "SyntaxError",
     "evalue": "unterminated string literal (detected at line 1) (2881694459.py, line 1)",
     "output_type": "error",
     "traceback": [
      "\u001b[0;36m  Cell \u001b[0;32mIn[40], line 1\u001b[0;36m\u001b[0m\n\u001b[0;31m    'I can't go to work today'\u001b[0m\n\u001b[0m                             ^\u001b[0m\n\u001b[0;31mSyntaxError\u001b[0m\u001b[0;31m:\u001b[0m unterminated string literal (detected at line 1)\n"
     ]
    }
   ],
   "source": [
    "'I can't go to work today'"
   ]
  },
  {
   "cell_type": "code",
   "execution_count": 41,
   "id": "3a9d83f9",
   "metadata": {},
   "outputs": [
    {
     "data": {
      "text/plain": [
       "\"I can't go to work today\""
      ]
     },
     "execution_count": 41,
     "metadata": {},
     "output_type": "execute_result"
    }
   ],
   "source": [
    "\"I can't go to work today\""
   ]
  },
  {
   "cell_type": "code",
   "execution_count": 42,
   "id": "e18dcfb4",
   "metadata": {},
   "outputs": [
    {
     "ename": "SyntaxError",
     "evalue": "invalid syntax (1568901286.py, line 1)",
     "output_type": "error",
     "traceback": [
      "\u001b[0;36m  Cell \u001b[0;32mIn[42], line 1\u001b[0;36m\u001b[0m\n\u001b[0;31m    \"Fred says \"hello\" to you\"\u001b[0m\n\u001b[0m                ^\u001b[0m\n\u001b[0;31mSyntaxError\u001b[0m\u001b[0;31m:\u001b[0m invalid syntax\n"
     ]
    }
   ],
   "source": [
    "\"Fred says \"hello\" to you\""
   ]
  },
  {
   "cell_type": "code",
   "execution_count": 43,
   "id": "cae00d3d",
   "metadata": {},
   "outputs": [
    {
     "data": {
      "text/plain": [
       "'Fred says \"hello\" to you'"
      ]
     },
     "execution_count": 43,
     "metadata": {},
     "output_type": "execute_result"
    }
   ],
   "source": [
    "'Fred says \"hello\" to you'"
   ]
  },
  {
   "cell_type": "code",
   "execution_count": 44,
   "id": "246f64da",
   "metadata": {},
   "outputs": [
    {
     "data": {
      "text/plain": [
       "'10'"
      ]
     },
     "execution_count": 44,
     "metadata": {},
     "output_type": "execute_result"
    }
   ],
   "source": [
    "str(10)"
   ]
  },
  {
   "cell_type": "code",
   "execution_count": 45,
   "id": "79d0d8a4",
   "metadata": {},
   "outputs": [
    {
     "data": {
      "text/plain": [
       "4"
      ]
     },
     "execution_count": 45,
     "metadata": {},
     "output_type": "execute_result"
    }
   ],
   "source": [
    "int('4')"
   ]
  },
  {
   "cell_type": "code",
   "execution_count": 46,
   "id": "3b94af33",
   "metadata": {},
   "outputs": [],
   "source": [
    "my_number = '4'"
   ]
  },
  {
   "cell_type": "code",
   "execution_count": 47,
   "id": "79bf05fe",
   "metadata": {},
   "outputs": [
    {
     "data": {
      "text/plain": [
       "str"
      ]
     },
     "execution_count": 47,
     "metadata": {},
     "output_type": "execute_result"
    }
   ],
   "source": [
    "type(my_number)"
   ]
  },
  {
   "cell_type": "code",
   "execution_count": 50,
   "id": "fe8f7909",
   "metadata": {},
   "outputs": [],
   "source": [
    "my_int_number = int(my_number)"
   ]
  },
  {
   "cell_type": "code",
   "execution_count": 51,
   "id": "f3bbae25",
   "metadata": {},
   "outputs": [
    {
     "data": {
      "text/plain": [
       "4"
      ]
     },
     "execution_count": 51,
     "metadata": {},
     "output_type": "execute_result"
    }
   ],
   "source": [
    "my_int_number"
   ]
  },
  {
   "cell_type": "code",
   "execution_count": 52,
   "id": "6a7c576a",
   "metadata": {},
   "outputs": [
    {
     "data": {
      "text/plain": [
       "int"
      ]
     },
     "execution_count": 52,
     "metadata": {},
     "output_type": "execute_result"
    }
   ],
   "source": [
    "type(my_int_number)"
   ]
  },
  {
   "cell_type": "code",
   "execution_count": 53,
   "id": "5f2194d5",
   "metadata": {},
   "outputs": [
    {
     "data": {
      "text/plain": [
       "1.0"
      ]
     },
     "execution_count": 53,
     "metadata": {},
     "output_type": "execute_result"
    }
   ],
   "source": [
    "float(1)"
   ]
  },
  {
   "cell_type": "code",
   "execution_count": 54,
   "id": "13808644",
   "metadata": {},
   "outputs": [
    {
     "data": {
      "text/plain": [
       "1"
      ]
     },
     "execution_count": 54,
     "metadata": {},
     "output_type": "execute_result"
    }
   ],
   "source": [
    "int(1.2)"
   ]
  },
  {
   "cell_type": "code",
   "execution_count": 55,
   "id": "a2029a06",
   "metadata": {},
   "outputs": [
    {
     "data": {
      "text/plain": [
       "1"
      ]
     },
     "execution_count": 55,
     "metadata": {},
     "output_type": "execute_result"
    }
   ],
   "source": [
    "int(1.7)"
   ]
  },
  {
   "cell_type": "code",
   "execution_count": 56,
   "id": "9a918b0f",
   "metadata": {},
   "outputs": [
    {
     "ename": "ValueError",
     "evalue": "invalid literal for int() with base 10: 'four'",
     "output_type": "error",
     "traceback": [
      "\u001b[0;31m---------------------------------------------------------------------------\u001b[0m",
      "\u001b[0;31mValueError\u001b[0m                                Traceback (most recent call last)",
      "Cell \u001b[0;32mIn[56], line 1\u001b[0m\n\u001b[0;32m----> 1\u001b[0m \u001b[38;5;28;43mint\u001b[39;49m\u001b[43m(\u001b[49m\u001b[38;5;124;43m\"\u001b[39;49m\u001b[38;5;124;43mfour\u001b[39;49m\u001b[38;5;124;43m\"\u001b[39;49m\u001b[43m)\u001b[49m\n",
      "\u001b[0;31mValueError\u001b[0m: invalid literal for int() with base 10: 'four'"
     ]
    }
   ],
   "source": [
    "int(\"four\")"
   ]
  },
  {
   "cell_type": "code",
   "execution_count": 57,
   "id": "02709a36",
   "metadata": {},
   "outputs": [
    {
     "ename": "ValueError",
     "evalue": "invalid literal for int() with base 10: '3.2'",
     "output_type": "error",
     "traceback": [
      "\u001b[0;31m---------------------------------------------------------------------------\u001b[0m",
      "\u001b[0;31mValueError\u001b[0m                                Traceback (most recent call last)",
      "Cell \u001b[0;32mIn[57], line 1\u001b[0m\n\u001b[0;32m----> 1\u001b[0m \u001b[38;5;28;43mint\u001b[39;49m\u001b[43m(\u001b[49m\u001b[38;5;124;43m\"\u001b[39;49m\u001b[38;5;124;43m3.2\u001b[39;49m\u001b[38;5;124;43m\"\u001b[39;49m\u001b[43m)\u001b[49m\n",
      "\u001b[0;31mValueError\u001b[0m: invalid literal for int() with base 10: '3.2'"
     ]
    }
   ],
   "source": [
    "int(\"3.2\")"
   ]
  },
  {
   "cell_type": "code",
   "execution_count": 58,
   "id": "4a6e7296",
   "metadata": {},
   "outputs": [
    {
     "data": {
      "text/plain": [
       "3"
      ]
     },
     "execution_count": 58,
     "metadata": {},
     "output_type": "execute_result"
    }
   ],
   "source": [
    "int(float(\"3.2\"))"
   ]
  },
  {
   "cell_type": "code",
   "execution_count": 59,
   "id": "b5a79696",
   "metadata": {},
   "outputs": [
    {
     "data": {
      "text/plain": [
       "'1.3'"
      ]
     },
     "execution_count": 59,
     "metadata": {},
     "output_type": "execute_result"
    }
   ],
   "source": [
    "str(\"1.3\")"
   ]
  },
  {
   "cell_type": "code",
   "execution_count": 60,
   "id": "ad6bbe43",
   "metadata": {},
   "outputs": [
    {
     "data": {
      "text/plain": [
       "builtin_function_or_method"
      ]
     },
     "execution_count": 60,
     "metadata": {},
     "output_type": "execute_result"
    }
   ],
   "source": [
    "type(abs)"
   ]
  },
  {
   "cell_type": "code",
   "execution_count": null,
   "id": "e72c77a7",
   "metadata": {},
   "outputs": [],
   "source": []
  }
 ],
 "metadata": {
  "kernelspec": {
   "display_name": "Python 3 (ipykernel)",
   "language": "python",
   "name": "python3"
  },
  "language_info": {
   "codemirror_mode": {
    "name": "ipython",
    "version": 3
   },
   "file_extension": ".py",
   "mimetype": "text/x-python",
   "name": "python",
   "nbconvert_exporter": "python",
   "pygments_lexer": "ipython3",
   "version": "3.10.11"
  }
 },
 "nbformat": 4,
 "nbformat_minor": 5
}
