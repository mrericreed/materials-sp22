{
 "cells": [
  {
   "cell_type": "code",
   "execution_count": 4,
   "id": "95e73860",
   "metadata": {},
   "outputs": [],
   "source": [
    "from datascience import *\n",
    "import numpy as np"
   ]
  },
  {
   "cell_type": "code",
   "execution_count": 5,
   "id": "a305f79d",
   "metadata": {},
   "outputs": [],
   "source": [
    "nba = Table.read_table('nba_salaries.csv').where(\"season\", 2020).drop(\"season\")"
   ]
  },
  {
   "cell_type": "code",
   "execution_count": 6,
   "id": "4146886d",
   "metadata": {},
   "outputs": [
    {
     "data": {
      "text/html": [
       "<table border=\"1\" class=\"dataframe\">\n",
       "    <thead>\n",
       "        <tr>\n",
       "            <th>rank</th> <th>name</th> <th>position</th> <th>team</th> <th>salary</th>\n",
       "        </tr>\n",
       "    </thead>\n",
       "    <tbody>\n",
       "        <tr>\n",
       "            <td>1   </td> <td>Stephen Curry    </td> <td>PG      </td> <td>Golden State Warriors</td> <td>40231758</td>\n",
       "        </tr>\n",
       "        <tr>\n",
       "            <td>2   </td> <td>Chris Paul       </td> <td>PG      </td> <td>Oklahoma City Thunder</td> <td>38506482</td>\n",
       "        </tr>\n",
       "        <tr>\n",
       "            <td>3   </td> <td>Russell Westbrook</td> <td>PG      </td> <td>Houston Rockets      </td> <td>38506482</td>\n",
       "        </tr>\n",
       "        <tr>\n",
       "            <td>4   </td> <td>John Wall        </td> <td>PG      </td> <td>Washington Wizards   </td> <td>38199000</td>\n",
       "        </tr>\n",
       "        <tr>\n",
       "            <td>5   </td> <td>Kevin Durant     </td> <td>SF      </td> <td>Brooklyn Nets        </td> <td>38199000</td>\n",
       "        </tr>\n",
       "        <tr>\n",
       "            <td>6   </td> <td>James Harden     </td> <td>SG      </td> <td>Houston Rockets      </td> <td>38199000</td>\n",
       "        </tr>\n",
       "        <tr>\n",
       "            <td>7   </td> <td>LeBron James     </td> <td>SF      </td> <td>Los Angeles Lakers   </td> <td>37436858</td>\n",
       "        </tr>\n",
       "        <tr>\n",
       "            <td>8   </td> <td>Kyle Lowry       </td> <td>PG      </td> <td>Toronto Raptors      </td> <td>34996296</td>\n",
       "        </tr>\n",
       "        <tr>\n",
       "            <td>9   </td> <td>Blake Griffin    </td> <td>PF      </td> <td>Detroit Pistons      </td> <td>34449964</td>\n",
       "        </tr>\n",
       "        <tr>\n",
       "            <td>10  </td> <td>Tobias Harris    </td> <td>SF      </td> <td>Philadelphia 76ers   </td> <td>32742000</td>\n",
       "        </tr>\n",
       "    </tbody>\n",
       "</table>\n",
       "<p>... (518 rows omitted)</p>"
      ],
      "text/plain": [
       "rank | name              | position | team                  | salary\n",
       "1    | Stephen Curry     | PG       | Golden State Warriors | 40231758\n",
       "2    | Chris Paul        | PG       | Oklahoma City Thunder | 38506482\n",
       "3    | Russell Westbrook | PG       | Houston Rockets       | 38506482\n",
       "4    | John Wall         | PG       | Washington Wizards    | 38199000\n",
       "5    | Kevin Durant      | SF       | Brooklyn Nets         | 38199000\n",
       "6    | James Harden      | SG       | Houston Rockets       | 38199000\n",
       "7    | LeBron James      | SF       | Los Angeles Lakers    | 37436858\n",
       "8    | Kyle Lowry        | PG       | Toronto Raptors       | 34996296\n",
       "9    | Blake Griffin     | PF       | Detroit Pistons       | 34449964\n",
       "10   | Tobias Harris     | SF       | Philadelphia 76ers    | 32742000\n",
       "... (518 rows omitted)"
      ]
     },
     "execution_count": 6,
     "metadata": {},
     "output_type": "execute_result"
    }
   ],
   "source": [
    "nba"
   ]
  },
  {
   "cell_type": "code",
   "execution_count": 7,
   "id": "06dfe27e",
   "metadata": {},
   "outputs": [
    {
     "data": {
      "text/plain": [
       "528"
      ]
     },
     "execution_count": 7,
     "metadata": {},
     "output_type": "execute_result"
    }
   ],
   "source": [
    "nba.num_rows"
   ]
  },
  {
   "cell_type": "code",
   "execution_count": 8,
   "id": "3ffdfa02",
   "metadata": {},
   "outputs": [
    {
     "data": {
      "text/plain": [
       "5"
      ]
     },
     "execution_count": 8,
     "metadata": {},
     "output_type": "execute_result"
    }
   ],
   "source": [
    "nba.num_columns"
   ]
  },
  {
   "cell_type": "code",
   "execution_count": 9,
   "id": "3286fc00",
   "metadata": {},
   "outputs": [
    {
     "data": {
      "text/plain": [
       "('rank', 'name', 'position', 'team', 'salary')"
      ]
     },
     "execution_count": 9,
     "metadata": {},
     "output_type": "execute_result"
    }
   ],
   "source": [
    "nba.labels"
   ]
  },
  {
   "cell_type": "code",
   "execution_count": 10,
   "id": "72e6a003",
   "metadata": {},
   "outputs": [
    {
     "data": {
      "text/html": [
       "<table border=\"1\" class=\"dataframe\">\n",
       "    <thead>\n",
       "        <tr>\n",
       "            <th>rank</th> <th>name</th> <th>position</th> <th>team</th> <th>$</th>\n",
       "        </tr>\n",
       "    </thead>\n",
       "    <tbody>\n",
       "        <tr>\n",
       "            <td>1   </td> <td>Stephen Curry    </td> <td>PG      </td> <td>Golden State Warriors</td> <td>40231758</td>\n",
       "        </tr>\n",
       "        <tr>\n",
       "            <td>2   </td> <td>Chris Paul       </td> <td>PG      </td> <td>Oklahoma City Thunder</td> <td>38506482</td>\n",
       "        </tr>\n",
       "        <tr>\n",
       "            <td>3   </td> <td>Russell Westbrook</td> <td>PG      </td> <td>Houston Rockets      </td> <td>38506482</td>\n",
       "        </tr>\n",
       "        <tr>\n",
       "            <td>4   </td> <td>John Wall        </td> <td>PG      </td> <td>Washington Wizards   </td> <td>38199000</td>\n",
       "        </tr>\n",
       "        <tr>\n",
       "            <td>5   </td> <td>Kevin Durant     </td> <td>SF      </td> <td>Brooklyn Nets        </td> <td>38199000</td>\n",
       "        </tr>\n",
       "        <tr>\n",
       "            <td>6   </td> <td>James Harden     </td> <td>SG      </td> <td>Houston Rockets      </td> <td>38199000</td>\n",
       "        </tr>\n",
       "        <tr>\n",
       "            <td>7   </td> <td>LeBron James     </td> <td>SF      </td> <td>Los Angeles Lakers   </td> <td>37436858</td>\n",
       "        </tr>\n",
       "        <tr>\n",
       "            <td>8   </td> <td>Kyle Lowry       </td> <td>PG      </td> <td>Toronto Raptors      </td> <td>34996296</td>\n",
       "        </tr>\n",
       "        <tr>\n",
       "            <td>9   </td> <td>Blake Griffin    </td> <td>PF      </td> <td>Detroit Pistons      </td> <td>34449964</td>\n",
       "        </tr>\n",
       "        <tr>\n",
       "            <td>10  </td> <td>Tobias Harris    </td> <td>SF      </td> <td>Philadelphia 76ers   </td> <td>32742000</td>\n",
       "        </tr>\n",
       "    </tbody>\n",
       "</table>\n",
       "<p>... (518 rows omitted)</p>"
      ],
      "text/plain": [
       "rank | name              | position | team                  | $\n",
       "1    | Stephen Curry     | PG       | Golden State Warriors | 40231758\n",
       "2    | Chris Paul        | PG       | Oklahoma City Thunder | 38506482\n",
       "3    | Russell Westbrook | PG       | Houston Rockets       | 38506482\n",
       "4    | John Wall         | PG       | Washington Wizards    | 38199000\n",
       "5    | Kevin Durant      | SF       | Brooklyn Nets         | 38199000\n",
       "6    | James Harden      | SG       | Houston Rockets       | 38199000\n",
       "7    | LeBron James      | SF       | Los Angeles Lakers    | 37436858\n",
       "8    | Kyle Lowry        | PG       | Toronto Raptors       | 34996296\n",
       "9    | Blake Griffin     | PF       | Detroit Pistons       | 34449964\n",
       "10   | Tobias Harris     | SF       | Philadelphia 76ers    | 32742000\n",
       "... (518 rows omitted)"
      ]
     },
     "execution_count": 10,
     "metadata": {},
     "output_type": "execute_result"
    }
   ],
   "source": [
    "nba.relabeled('salary', '$')"
   ]
  },
  {
   "cell_type": "code",
   "execution_count": 11,
   "id": "d10233f8",
   "metadata": {},
   "outputs": [
    {
     "data": {
      "text/html": [
       "<table border=\"1\" class=\"dataframe\">\n",
       "    <thead>\n",
       "        <tr>\n",
       "            <th>rank</th> <th>name</th> <th>position</th> <th>team</th> <th>salary</th>\n",
       "        </tr>\n",
       "    </thead>\n",
       "    <tbody>\n",
       "        <tr>\n",
       "            <td>1   </td> <td>Stephen Curry    </td> <td>PG      </td> <td>Golden State Warriors</td> <td>40231758</td>\n",
       "        </tr>\n",
       "        <tr>\n",
       "            <td>2   </td> <td>Chris Paul       </td> <td>PG      </td> <td>Oklahoma City Thunder</td> <td>38506482</td>\n",
       "        </tr>\n",
       "        <tr>\n",
       "            <td>3   </td> <td>Russell Westbrook</td> <td>PG      </td> <td>Houston Rockets      </td> <td>38506482</td>\n",
       "        </tr>\n",
       "        <tr>\n",
       "            <td>4   </td> <td>John Wall        </td> <td>PG      </td> <td>Washington Wizards   </td> <td>38199000</td>\n",
       "        </tr>\n",
       "        <tr>\n",
       "            <td>5   </td> <td>Kevin Durant     </td> <td>SF      </td> <td>Brooklyn Nets        </td> <td>38199000</td>\n",
       "        </tr>\n",
       "        <tr>\n",
       "            <td>6   </td> <td>James Harden     </td> <td>SG      </td> <td>Houston Rockets      </td> <td>38199000</td>\n",
       "        </tr>\n",
       "        <tr>\n",
       "            <td>7   </td> <td>LeBron James     </td> <td>SF      </td> <td>Los Angeles Lakers   </td> <td>37436858</td>\n",
       "        </tr>\n",
       "        <tr>\n",
       "            <td>8   </td> <td>Kyle Lowry       </td> <td>PG      </td> <td>Toronto Raptors      </td> <td>34996296</td>\n",
       "        </tr>\n",
       "        <tr>\n",
       "            <td>9   </td> <td>Blake Griffin    </td> <td>PF      </td> <td>Detroit Pistons      </td> <td>34449964</td>\n",
       "        </tr>\n",
       "        <tr>\n",
       "            <td>10  </td> <td>Tobias Harris    </td> <td>SF      </td> <td>Philadelphia 76ers   </td> <td>32742000</td>\n",
       "        </tr>\n",
       "    </tbody>\n",
       "</table>\n",
       "<p>... (518 rows omitted)</p>"
      ],
      "text/plain": [
       "rank | name              | position | team                  | salary\n",
       "1    | Stephen Curry     | PG       | Golden State Warriors | 40231758\n",
       "2    | Chris Paul        | PG       | Oklahoma City Thunder | 38506482\n",
       "3    | Russell Westbrook | PG       | Houston Rockets       | 38506482\n",
       "4    | John Wall         | PG       | Washington Wizards    | 38199000\n",
       "5    | Kevin Durant      | SF       | Brooklyn Nets         | 38199000\n",
       "6    | James Harden      | SG       | Houston Rockets       | 38199000\n",
       "7    | LeBron James      | SF       | Los Angeles Lakers    | 37436858\n",
       "8    | Kyle Lowry        | PG       | Toronto Raptors       | 34996296\n",
       "9    | Blake Griffin     | PF       | Detroit Pistons       | 34449964\n",
       "10   | Tobias Harris     | SF       | Philadelphia 76ers    | 32742000\n",
       "... (518 rows omitted)"
      ]
     },
     "execution_count": 11,
     "metadata": {},
     "output_type": "execute_result"
    }
   ],
   "source": [
    "nba"
   ]
  },
  {
   "cell_type": "code",
   "execution_count": 12,
   "id": "bcba0e0d",
   "metadata": {},
   "outputs": [],
   "source": [
    "nba = nba.relabeled('salary', '$')"
   ]
  },
  {
   "cell_type": "code",
   "execution_count": 13,
   "id": "c68a29eb",
   "metadata": {},
   "outputs": [
    {
     "data": {
      "text/html": [
       "<table border=\"1\" class=\"dataframe\">\n",
       "    <thead>\n",
       "        <tr>\n",
       "            <th>rank</th> <th>name</th> <th>position</th> <th>team</th> <th>$</th>\n",
       "        </tr>\n",
       "    </thead>\n",
       "    <tbody>\n",
       "        <tr>\n",
       "            <td>1   </td> <td>Stephen Curry    </td> <td>PG      </td> <td>Golden State Warriors</td> <td>40231758</td>\n",
       "        </tr>\n",
       "        <tr>\n",
       "            <td>2   </td> <td>Chris Paul       </td> <td>PG      </td> <td>Oklahoma City Thunder</td> <td>38506482</td>\n",
       "        </tr>\n",
       "        <tr>\n",
       "            <td>3   </td> <td>Russell Westbrook</td> <td>PG      </td> <td>Houston Rockets      </td> <td>38506482</td>\n",
       "        </tr>\n",
       "        <tr>\n",
       "            <td>4   </td> <td>John Wall        </td> <td>PG      </td> <td>Washington Wizards   </td> <td>38199000</td>\n",
       "        </tr>\n",
       "        <tr>\n",
       "            <td>5   </td> <td>Kevin Durant     </td> <td>SF      </td> <td>Brooklyn Nets        </td> <td>38199000</td>\n",
       "        </tr>\n",
       "        <tr>\n",
       "            <td>6   </td> <td>James Harden     </td> <td>SG      </td> <td>Houston Rockets      </td> <td>38199000</td>\n",
       "        </tr>\n",
       "        <tr>\n",
       "            <td>7   </td> <td>LeBron James     </td> <td>SF      </td> <td>Los Angeles Lakers   </td> <td>37436858</td>\n",
       "        </tr>\n",
       "        <tr>\n",
       "            <td>8   </td> <td>Kyle Lowry       </td> <td>PG      </td> <td>Toronto Raptors      </td> <td>34996296</td>\n",
       "        </tr>\n",
       "        <tr>\n",
       "            <td>9   </td> <td>Blake Griffin    </td> <td>PF      </td> <td>Detroit Pistons      </td> <td>34449964</td>\n",
       "        </tr>\n",
       "        <tr>\n",
       "            <td>10  </td> <td>Tobias Harris    </td> <td>SF      </td> <td>Philadelphia 76ers   </td> <td>32742000</td>\n",
       "        </tr>\n",
       "    </tbody>\n",
       "</table>\n",
       "<p>... (518 rows omitted)</p>"
      ],
      "text/plain": [
       "rank | name              | position | team                  | $\n",
       "1    | Stephen Curry     | PG       | Golden State Warriors | 40231758\n",
       "2    | Chris Paul        | PG       | Oklahoma City Thunder | 38506482\n",
       "3    | Russell Westbrook | PG       | Houston Rockets       | 38506482\n",
       "4    | John Wall         | PG       | Washington Wizards    | 38199000\n",
       "5    | Kevin Durant      | SF       | Brooklyn Nets         | 38199000\n",
       "6    | James Harden      | SG       | Houston Rockets       | 38199000\n",
       "7    | LeBron James      | SF       | Los Angeles Lakers    | 37436858\n",
       "8    | Kyle Lowry        | PG       | Toronto Raptors       | 34996296\n",
       "9    | Blake Griffin     | PF       | Detroit Pistons       | 34449964\n",
       "10   | Tobias Harris     | SF       | Philadelphia 76ers    | 32742000\n",
       "... (518 rows omitted)"
      ]
     },
     "execution_count": 13,
     "metadata": {},
     "output_type": "execute_result"
    }
   ],
   "source": [
    "nba"
   ]
  },
  {
   "cell_type": "code",
   "execution_count": 15,
   "id": "ba7e7b25",
   "metadata": {},
   "outputs": [
    {
     "data": {
      "text/html": [
       "<table border=\"1\" class=\"dataframe\">\n",
       "    <thead>\n",
       "        <tr>\n",
       "            <th>rank</th> <th>name</th> <th>position</th> <th>team</th> <th>$</th>\n",
       "        </tr>\n",
       "    </thead>\n",
       "    <tbody>\n",
       "        <tr>\n",
       "            <td>1   </td> <td>Stephen Curry    </td> <td>PG      </td> <td>Golden State Warriors</td> <td>40231758</td>\n",
       "        </tr>\n",
       "        <tr>\n",
       "            <td>2   </td> <td>Chris Paul       </td> <td>PG      </td> <td>Oklahoma City Thunder</td> <td>38506482</td>\n",
       "        </tr>\n",
       "        <tr>\n",
       "            <td>3   </td> <td>Russell Westbrook</td> <td>PG      </td> <td>Houston Rockets      </td> <td>38506482</td>\n",
       "        </tr>\n",
       "        <tr>\n",
       "            <td>4   </td> <td>John Wall        </td> <td>PG      </td> <td>Washington Wizards   </td> <td>38199000</td>\n",
       "        </tr>\n",
       "        <tr>\n",
       "            <td>5   </td> <td>Kevin Durant     </td> <td>SF      </td> <td>Brooklyn Nets        </td> <td>38199000</td>\n",
       "        </tr>\n",
       "    </tbody>\n",
       "</table>\n",
       "<p>... (523 rows omitted)</p>"
      ],
      "text/plain": [
       "<IPython.core.display.HTML object>"
      ]
     },
     "metadata": {},
     "output_type": "display_data"
    }
   ],
   "source": [
    "nba.show(5)"
   ]
  },
  {
   "cell_type": "code",
   "execution_count": 17,
   "id": "c8cd88af",
   "metadata": {},
   "outputs": [
    {
     "data": {
      "text/html": [
       "<table border=\"1\" class=\"dataframe\">\n",
       "    <thead>\n",
       "        <tr>\n",
       "            <th>rank</th> <th>name</th> <th>position</th> <th>team</th> <th>$</th>\n",
       "        </tr>\n",
       "    </thead>\n",
       "    <tbody>\n",
       "        <tr>\n",
       "            <td>3   </td> <td>Russell Westbrook</td> <td>PG      </td> <td>Houston Rockets</td> <td>38506482</td>\n",
       "        </tr>\n",
       "    </tbody>\n",
       "</table>"
      ],
      "text/plain": [
       "rank | name              | position | team            | $\n",
       "3    | Russell Westbrook | PG       | Houston Rockets | 38506482"
      ]
     },
     "execution_count": 17,
     "metadata": {},
     "output_type": "execute_result"
    }
   ],
   "source": [
    "nba.take(2)"
   ]
  },
  {
   "cell_type": "code",
   "execution_count": 18,
   "id": "9fc7e65c",
   "metadata": {},
   "outputs": [
    {
     "data": {
      "text/html": [
       "<table border=\"1\" class=\"dataframe\">\n",
       "    <thead>\n",
       "        <tr>\n",
       "            <th>rank</th> <th>name</th> <th>position</th> <th>team</th> <th>$</th>\n",
       "        </tr>\n",
       "    </thead>\n",
       "    <tbody>\n",
       "        <tr>\n",
       "            <td>1   </td> <td>Stephen Curry    </td> <td>PG      </td> <td>Golden State Warriors</td> <td>40231758</td>\n",
       "        </tr>\n",
       "        <tr>\n",
       "            <td>2   </td> <td>Chris Paul       </td> <td>PG      </td> <td>Oklahoma City Thunder</td> <td>38506482</td>\n",
       "        </tr>\n",
       "        <tr>\n",
       "            <td>3   </td> <td>Russell Westbrook</td> <td>PG      </td> <td>Houston Rockets      </td> <td>38506482</td>\n",
       "        </tr>\n",
       "        <tr>\n",
       "            <td>4   </td> <td>John Wall        </td> <td>PG      </td> <td>Washington Wizards   </td> <td>38199000</td>\n",
       "        </tr>\n",
       "        <tr>\n",
       "            <td>5   </td> <td>Kevin Durant     </td> <td>SF      </td> <td>Brooklyn Nets        </td> <td>38199000</td>\n",
       "        </tr>\n",
       "        <tr>\n",
       "            <td>6   </td> <td>James Harden     </td> <td>SG      </td> <td>Houston Rockets      </td> <td>38199000</td>\n",
       "        </tr>\n",
       "        <tr>\n",
       "            <td>7   </td> <td>LeBron James     </td> <td>SF      </td> <td>Los Angeles Lakers   </td> <td>37436858</td>\n",
       "        </tr>\n",
       "        <tr>\n",
       "            <td>8   </td> <td>Kyle Lowry       </td> <td>PG      </td> <td>Toronto Raptors      </td> <td>34996296</td>\n",
       "        </tr>\n",
       "        <tr>\n",
       "            <td>9   </td> <td>Blake Griffin    </td> <td>PF      </td> <td>Detroit Pistons      </td> <td>34449964</td>\n",
       "        </tr>\n",
       "        <tr>\n",
       "            <td>10  </td> <td>Tobias Harris    </td> <td>SF      </td> <td>Philadelphia 76ers   </td> <td>32742000</td>\n",
       "        </tr>\n",
       "    </tbody>\n",
       "</table>\n",
       "<p>... (518 rows omitted)</p>"
      ],
      "text/plain": [
       "rank | name              | position | team                  | $\n",
       "1    | Stephen Curry     | PG       | Golden State Warriors | 40231758\n",
       "2    | Chris Paul        | PG       | Oklahoma City Thunder | 38506482\n",
       "3    | Russell Westbrook | PG       | Houston Rockets       | 38506482\n",
       "4    | John Wall         | PG       | Washington Wizards    | 38199000\n",
       "5    | Kevin Durant      | SF       | Brooklyn Nets         | 38199000\n",
       "6    | James Harden      | SG       | Houston Rockets       | 38199000\n",
       "7    | LeBron James      | SF       | Los Angeles Lakers    | 37436858\n",
       "8    | Kyle Lowry        | PG       | Toronto Raptors       | 34996296\n",
       "9    | Blake Griffin     | PF       | Detroit Pistons       | 34449964\n",
       "10   | Tobias Harris     | SF       | Philadelphia 76ers    | 32742000\n",
       "... (518 rows omitted)"
      ]
     },
     "execution_count": 18,
     "metadata": {},
     "output_type": "execute_result"
    }
   ],
   "source": [
    "nba"
   ]
  },
  {
   "cell_type": "code",
   "execution_count": 19,
   "id": "f5bdc26b",
   "metadata": {},
   "outputs": [
    {
     "data": {
      "text/html": [
       "<table border=\"1\" class=\"dataframe\">\n",
       "    <thead>\n",
       "        <tr>\n",
       "            <th>rank</th> <th>name</th> <th>position</th> <th>team</th> <th>$</th>\n",
       "        </tr>\n",
       "    </thead>\n",
       "    <tbody>\n",
       "        <tr>\n",
       "            <td>2   </td> <td>Chris Paul  </td> <td>PG      </td> <td>Oklahoma City Thunder</td> <td>38506482</td>\n",
       "        </tr>\n",
       "        <tr>\n",
       "            <td>5   </td> <td>Kevin Durant</td> <td>SF      </td> <td>Brooklyn Nets        </td> <td>38199000</td>\n",
       "        </tr>\n",
       "    </tbody>\n",
       "</table>"
      ],
      "text/plain": [
       "rank | name         | position | team                  | $\n",
       "2    | Chris Paul   | PG       | Oklahoma City Thunder | 38506482\n",
       "5    | Kevin Durant | SF       | Brooklyn Nets         | 38199000"
      ]
     },
     "execution_count": 19,
     "metadata": {},
     "output_type": "execute_result"
    }
   ],
   "source": [
    "nba.take(1, 4)"
   ]
  },
  {
   "cell_type": "code",
   "execution_count": 20,
   "id": "b89cab34",
   "metadata": {},
   "outputs": [
    {
     "data": {
      "text/html": [
       "<table border=\"1\" class=\"dataframe\">\n",
       "    <thead>\n",
       "        <tr>\n",
       "            <th>rank</th> <th>name</th> <th>position</th> <th>team</th> <th>$</th>\n",
       "        </tr>\n",
       "    </thead>\n",
       "    <tbody>\n",
       "        <tr>\n",
       "            <td>101 </td> <td>Larry Nance Jr. </td> <td>PF      </td> <td>Cleveland Cavaliers</td> <td>12727273</td>\n",
       "        </tr>\n",
       "        <tr>\n",
       "            <td>102 </td> <td>Kelly Olynyk    </td> <td>PF      </td> <td>Miami Heat         </td> <td>12667885</td>\n",
       "        </tr>\n",
       "        <tr>\n",
       "            <td>103 </td> <td>Marcus Smart    </td> <td>PG      </td> <td>Boston Celtics     </td> <td>12553571</td>\n",
       "        </tr>\n",
       "        <tr>\n",
       "            <td>104 </td> <td>Miles Plumlee   </td> <td>C       </td> <td>Memphis Grizzlies  </td> <td>12500000</td>\n",
       "        </tr>\n",
       "        <tr>\n",
       "            <td>105 </td> <td>Terrence Ross   </td> <td>SG      </td> <td>Orlando Magic      </td> <td>12500000</td>\n",
       "        </tr>\n",
       "        <tr>\n",
       "            <td>106 </td> <td>Nikola Mirotic  </td> <td>F       </td> <td>Milwaukee Bucks    </td> <td>12500000</td>\n",
       "        </tr>\n",
       "        <tr>\n",
       "            <td>107 </td> <td>Patty Mills     </td> <td>PG      </td> <td>San Antonio Spurs  </td> <td>12428571</td>\n",
       "        </tr>\n",
       "        <tr>\n",
       "            <td>108 </td> <td>Tyreke Evans    </td> <td>G       </td> <td>Indiana Pacers     </td> <td>12400000</td>\n",
       "        </tr>\n",
       "        <tr>\n",
       "            <td>109 </td> <td>Patrick Beverley</td> <td>PG      </td> <td>LA Clippers        </td> <td>12345680</td>\n",
       "        </tr>\n",
       "        <tr>\n",
       "            <td>110 </td> <td>Trevor Ariza    </td> <td>SF      </td> <td>Sacramento Kings   </td> <td>12195122</td>\n",
       "        </tr>\n",
       "    </tbody>\n",
       "</table>\n",
       "<p>... (90 rows omitted)</p>"
      ],
      "text/plain": [
       "rank | name             | position | team                | $\n",
       "101  | Larry Nance Jr.  | PF       | Cleveland Cavaliers | 12727273\n",
       "102  | Kelly Olynyk     | PF       | Miami Heat          | 12667885\n",
       "103  | Marcus Smart     | PG       | Boston Celtics      | 12553571\n",
       "104  | Miles Plumlee    | C        | Memphis Grizzlies   | 12500000\n",
       "105  | Terrence Ross    | SG       | Orlando Magic       | 12500000\n",
       "106  | Nikola Mirotic   | F        | Milwaukee Bucks     | 12500000\n",
       "107  | Patty Mills      | PG       | San Antonio Spurs   | 12428571\n",
       "108  | Tyreke Evans     | G        | Indiana Pacers      | 12400000\n",
       "109  | Patrick Beverley | PG       | LA Clippers         | 12345680\n",
       "110  | Trevor Ariza     | SF       | Sacramento Kings    | 12195122\n",
       "... (90 rows omitted)"
      ]
     },
     "execution_count": 20,
     "metadata": {},
     "output_type": "execute_result"
    }
   ],
   "source": [
    "nba.take(np.arange(100, 200))"
   ]
  },
  {
   "cell_type": "code",
   "execution_count": 21,
   "id": "7ca01df6",
   "metadata": {},
   "outputs": [
    {
     "data": {
      "text/plain": [
       "528"
      ]
     },
     "execution_count": 21,
     "metadata": {},
     "output_type": "execute_result"
    }
   ],
   "source": [
    "nba.num_rows"
   ]
  },
  {
   "cell_type": "code",
   "execution_count": 22,
   "id": "27e59db9",
   "metadata": {},
   "outputs": [
    {
     "data": {
      "text/html": [
       "<table border=\"1\" class=\"dataframe\">\n",
       "    <thead>\n",
       "        <tr>\n",
       "            <th>rank</th> <th>name</th> <th>position</th> <th>team</th> <th>$</th>\n",
       "        </tr>\n",
       "    </thead>\n",
       "    <tbody>\n",
       "        <tr>\n",
       "            <td>1   </td> <td>Stephen Curry   </td> <td>PG      </td> <td>Golden State Warriors </td> <td>40231758</td>\n",
       "        </tr>\n",
       "        <tr>\n",
       "            <td>11  </td> <td>Jimmy Butler    </td> <td>SF      </td> <td>Miami Heat            </td> <td>32742000</td>\n",
       "        </tr>\n",
       "        <tr>\n",
       "            <td>21  </td> <td>Damian Lillard  </td> <td>PG      </td> <td>Portland Trail Blazers</td> <td>29802321</td>\n",
       "        </tr>\n",
       "        <tr>\n",
       "            <td>31  </td> <td>D'Angelo Russell</td> <td>SG      </td> <td>Minnesota Timberwolves</td> <td>27285000</td>\n",
       "        </tr>\n",
       "        <tr>\n",
       "            <td>41  </td> <td>Steven Adams    </td> <td>C       </td> <td>Oklahoma City Thunder </td> <td>25842697</td>\n",
       "        </tr>\n",
       "        <tr>\n",
       "            <td>51  </td> <td>Tim Hardaway Jr.</td> <td>SG      </td> <td>Dallas Mavericks      </td> <td>20025127</td>\n",
       "        </tr>\n",
       "        <tr>\n",
       "            <td>61  </td> <td>Tristan Thompson</td> <td>C       </td> <td>Cleveland Cavaliers   </td> <td>18539130</td>\n",
       "        </tr>\n",
       "        <tr>\n",
       "            <td>71  </td> <td>Timofey Mozgov  </td> <td>C       </td> <td>Orlando Magic         </td> <td>16720000</td>\n",
       "        </tr>\n",
       "        <tr>\n",
       "            <td>81  </td> <td>James Johnson   </td> <td>PF      </td> <td>Minnesota Timberwolves</td> <td>15349400</td>\n",
       "        </tr>\n",
       "        <tr>\n",
       "            <td>91  </td> <td>Marcin Gortat   </td> <td>C       </td> <td>LA Clippers           </td> <td>13565218</td>\n",
       "        </tr>\n",
       "    </tbody>\n",
       "</table>\n",
       "<p>... (43 rows omitted)</p>"
      ],
      "text/plain": [
       "rank | name             | position | team                   | $\n",
       "1    | Stephen Curry    | PG       | Golden State Warriors  | 40231758\n",
       "11   | Jimmy Butler     | SF       | Miami Heat             | 32742000\n",
       "21   | Damian Lillard   | PG       | Portland Trail Blazers | 29802321\n",
       "31   | D'Angelo Russell | SG       | Minnesota Timberwolves | 27285000\n",
       "41   | Steven Adams     | C        | Oklahoma City Thunder  | 25842697\n",
       "51   | Tim Hardaway Jr. | SG       | Dallas Mavericks       | 20025127\n",
       "61   | Tristan Thompson | C        | Cleveland Cavaliers    | 18539130\n",
       "71   | Timofey Mozgov   | C        | Orlando Magic          | 16720000\n",
       "81   | James Johnson    | PF       | Minnesota Timberwolves | 15349400\n",
       "91   | Marcin Gortat    | C        | LA Clippers            | 13565218\n",
       "... (43 rows omitted)"
      ]
     },
     "execution_count": 22,
     "metadata": {},
     "output_type": "execute_result"
    }
   ],
   "source": [
    "nba.take(np.arange(0, 528, 10))"
   ]
  },
  {
   "cell_type": "code",
   "execution_count": 23,
   "id": "d686334f",
   "metadata": {},
   "outputs": [
    {
     "data": {
      "text/html": [
       "<table border=\"1\" class=\"dataframe\">\n",
       "    <thead>\n",
       "        <tr>\n",
       "            <th>rank</th> <th>name</th> <th>position</th> <th>team</th> <th>$</th>\n",
       "        </tr>\n",
       "    </thead>\n",
       "    <tbody>\n",
       "        <tr>\n",
       "            <td>1   </td> <td>Stephen Curry    </td> <td>PG      </td> <td>Golden State Warriors</td> <td>40231758</td>\n",
       "        </tr>\n",
       "        <tr>\n",
       "            <td>2   </td> <td>Chris Paul       </td> <td>PG      </td> <td>Oklahoma City Thunder</td> <td>38506482</td>\n",
       "        </tr>\n",
       "        <tr>\n",
       "            <td>3   </td> <td>Russell Westbrook</td> <td>PG      </td> <td>Houston Rockets      </td> <td>38506482</td>\n",
       "        </tr>\n",
       "        <tr>\n",
       "            <td>4   </td> <td>John Wall        </td> <td>PG      </td> <td>Washington Wizards   </td> <td>38199000</td>\n",
       "        </tr>\n",
       "        <tr>\n",
       "            <td>5   </td> <td>Kevin Durant     </td> <td>SF      </td> <td>Brooklyn Nets        </td> <td>38199000</td>\n",
       "        </tr>\n",
       "        <tr>\n",
       "            <td>6   </td> <td>James Harden     </td> <td>SG      </td> <td>Houston Rockets      </td> <td>38199000</td>\n",
       "        </tr>\n",
       "        <tr>\n",
       "            <td>7   </td> <td>LeBron James     </td> <td>SF      </td> <td>Los Angeles Lakers   </td> <td>37436858</td>\n",
       "        </tr>\n",
       "        <tr>\n",
       "            <td>8   </td> <td>Kyle Lowry       </td> <td>PG      </td> <td>Toronto Raptors      </td> <td>34996296</td>\n",
       "        </tr>\n",
       "        <tr>\n",
       "            <td>9   </td> <td>Blake Griffin    </td> <td>PF      </td> <td>Detroit Pistons      </td> <td>34449964</td>\n",
       "        </tr>\n",
       "        <tr>\n",
       "            <td>10  </td> <td>Tobias Harris    </td> <td>SF      </td> <td>Philadelphia 76ers   </td> <td>32742000</td>\n",
       "        </tr>\n",
       "    </tbody>\n",
       "</table>\n",
       "<p>... (518 rows omitted)</p>"
      ],
      "text/plain": [
       "rank | name              | position | team                  | $\n",
       "1    | Stephen Curry     | PG       | Golden State Warriors | 40231758\n",
       "2    | Chris Paul        | PG       | Oklahoma City Thunder | 38506482\n",
       "3    | Russell Westbrook | PG       | Houston Rockets       | 38506482\n",
       "4    | John Wall         | PG       | Washington Wizards    | 38199000\n",
       "5    | Kevin Durant      | SF       | Brooklyn Nets         | 38199000\n",
       "6    | James Harden      | SG       | Houston Rockets       | 38199000\n",
       "7    | LeBron James      | SF       | Los Angeles Lakers    | 37436858\n",
       "8    | Kyle Lowry        | PG       | Toronto Raptors       | 34996296\n",
       "9    | Blake Griffin     | PF       | Detroit Pistons       | 34449964\n",
       "10   | Tobias Harris     | SF       | Philadelphia 76ers    | 32742000\n",
       "... (518 rows omitted)"
      ]
     },
     "execution_count": 23,
     "metadata": {},
     "output_type": "execute_result"
    }
   ],
   "source": [
    "nba"
   ]
  },
  {
   "cell_type": "code",
   "execution_count": 24,
   "id": "0ca53539",
   "metadata": {},
   "outputs": [],
   "source": [
    "nba_sample = nba.take(np.arange(0, 528, 10))"
   ]
  },
  {
   "cell_type": "code",
   "execution_count": 25,
   "id": "af98c3ae",
   "metadata": {},
   "outputs": [
    {
     "data": {
      "text/html": [
       "<table border=\"1\" class=\"dataframe\">\n",
       "    <thead>\n",
       "        <tr>\n",
       "            <th>rank</th> <th>name</th> <th>position</th> <th>team</th> <th>$</th>\n",
       "        </tr>\n",
       "    </thead>\n",
       "    <tbody>\n",
       "        <tr>\n",
       "            <td>1   </td> <td>Stephen Curry   </td> <td>PG      </td> <td>Golden State Warriors </td> <td>40231758</td>\n",
       "        </tr>\n",
       "        <tr>\n",
       "            <td>11  </td> <td>Jimmy Butler    </td> <td>SF      </td> <td>Miami Heat            </td> <td>32742000</td>\n",
       "        </tr>\n",
       "        <tr>\n",
       "            <td>21  </td> <td>Damian Lillard  </td> <td>PG      </td> <td>Portland Trail Blazers</td> <td>29802321</td>\n",
       "        </tr>\n",
       "        <tr>\n",
       "            <td>31  </td> <td>D'Angelo Russell</td> <td>SG      </td> <td>Minnesota Timberwolves</td> <td>27285000</td>\n",
       "        </tr>\n",
       "        <tr>\n",
       "            <td>41  </td> <td>Steven Adams    </td> <td>C       </td> <td>Oklahoma City Thunder </td> <td>25842697</td>\n",
       "        </tr>\n",
       "        <tr>\n",
       "            <td>51  </td> <td>Tim Hardaway Jr.</td> <td>SG      </td> <td>Dallas Mavericks      </td> <td>20025127</td>\n",
       "        </tr>\n",
       "        <tr>\n",
       "            <td>61  </td> <td>Tristan Thompson</td> <td>C       </td> <td>Cleveland Cavaliers   </td> <td>18539130</td>\n",
       "        </tr>\n",
       "        <tr>\n",
       "            <td>71  </td> <td>Timofey Mozgov  </td> <td>C       </td> <td>Orlando Magic         </td> <td>16720000</td>\n",
       "        </tr>\n",
       "        <tr>\n",
       "            <td>81  </td> <td>James Johnson   </td> <td>PF      </td> <td>Minnesota Timberwolves</td> <td>15349400</td>\n",
       "        </tr>\n",
       "        <tr>\n",
       "            <td>91  </td> <td>Marcin Gortat   </td> <td>C       </td> <td>LA Clippers           </td> <td>13565218</td>\n",
       "        </tr>\n",
       "    </tbody>\n",
       "</table>\n",
       "<p>... (43 rows omitted)</p>"
      ],
      "text/plain": [
       "rank | name             | position | team                   | $\n",
       "1    | Stephen Curry    | PG       | Golden State Warriors  | 40231758\n",
       "11   | Jimmy Butler     | SF       | Miami Heat             | 32742000\n",
       "21   | Damian Lillard   | PG       | Portland Trail Blazers | 29802321\n",
       "31   | D'Angelo Russell | SG       | Minnesota Timberwolves | 27285000\n",
       "41   | Steven Adams     | C        | Oklahoma City Thunder  | 25842697\n",
       "51   | Tim Hardaway Jr. | SG       | Dallas Mavericks       | 20025127\n",
       "61   | Tristan Thompson | C        | Cleveland Cavaliers    | 18539130\n",
       "71   | Timofey Mozgov   | C        | Orlando Magic          | 16720000\n",
       "81   | James Johnson    | PF       | Minnesota Timberwolves | 15349400\n",
       "91   | Marcin Gortat    | C        | LA Clippers            | 13565218\n",
       "... (43 rows omitted)"
      ]
     },
     "execution_count": 25,
     "metadata": {},
     "output_type": "execute_result"
    }
   ],
   "source": [
    "nba_sample"
   ]
  },
  {
   "cell_type": "code",
   "execution_count": 27,
   "id": "b01dc7bb",
   "metadata": {},
   "outputs": [
    {
     "data": {
      "text/html": [
       "<table border=\"1\" class=\"dataframe\">\n",
       "    <thead>\n",
       "        <tr>\n",
       "            <th>$</th>\n",
       "        </tr>\n",
       "    </thead>\n",
       "    <tbody>\n",
       "        <tr>\n",
       "            <td>40231758</td>\n",
       "        </tr>\n",
       "        <tr>\n",
       "            <td>38506482</td>\n",
       "        </tr>\n",
       "        <tr>\n",
       "            <td>38506482</td>\n",
       "        </tr>\n",
       "        <tr>\n",
       "            <td>38199000</td>\n",
       "        </tr>\n",
       "        <tr>\n",
       "            <td>38199000</td>\n",
       "        </tr>\n",
       "        <tr>\n",
       "            <td>38199000</td>\n",
       "        </tr>\n",
       "        <tr>\n",
       "            <td>37436858</td>\n",
       "        </tr>\n",
       "        <tr>\n",
       "            <td>34996296</td>\n",
       "        </tr>\n",
       "        <tr>\n",
       "            <td>34449964</td>\n",
       "        </tr>\n",
       "        <tr>\n",
       "            <td>32742000</td>\n",
       "        </tr>\n",
       "    </tbody>\n",
       "</table>\n",
       "<p>... (518 rows omitted)</p>"
      ],
      "text/plain": [
       "$\n",
       "40231758\n",
       "38506482\n",
       "38506482\n",
       "38199000\n",
       "38199000\n",
       "38199000\n",
       "37436858\n",
       "34996296\n",
       "34449964\n",
       "32742000\n",
       "... (518 rows omitted)"
      ]
     },
     "execution_count": 27,
     "metadata": {},
     "output_type": "execute_result"
    }
   ],
   "source": [
    "nba.select('$')"
   ]
  },
  {
   "cell_type": "code",
   "execution_count": 28,
   "id": "c6bd85d5",
   "metadata": {},
   "outputs": [
    {
     "data": {
      "text/html": [
       "<table border=\"1\" class=\"dataframe\">\n",
       "    <thead>\n",
       "        <tr>\n",
       "            <th>$</th>\n",
       "        </tr>\n",
       "    </thead>\n",
       "    <tbody>\n",
       "        <tr>\n",
       "            <td>40231758</td>\n",
       "        </tr>\n",
       "        <tr>\n",
       "            <td>38506482</td>\n",
       "        </tr>\n",
       "        <tr>\n",
       "            <td>38506482</td>\n",
       "        </tr>\n",
       "        <tr>\n",
       "            <td>38199000</td>\n",
       "        </tr>\n",
       "        <tr>\n",
       "            <td>38199000</td>\n",
       "        </tr>\n",
       "        <tr>\n",
       "            <td>38199000</td>\n",
       "        </tr>\n",
       "        <tr>\n",
       "            <td>37436858</td>\n",
       "        </tr>\n",
       "        <tr>\n",
       "            <td>34996296</td>\n",
       "        </tr>\n",
       "        <tr>\n",
       "            <td>34449964</td>\n",
       "        </tr>\n",
       "        <tr>\n",
       "            <td>32742000</td>\n",
       "        </tr>\n",
       "    </tbody>\n",
       "</table>\n",
       "<p>... (518 rows omitted)</p>"
      ],
      "text/plain": [
       "$\n",
       "40231758\n",
       "38506482\n",
       "38506482\n",
       "38199000\n",
       "38199000\n",
       "38199000\n",
       "37436858\n",
       "34996296\n",
       "34449964\n",
       "32742000\n",
       "... (518 rows omitted)"
      ]
     },
     "execution_count": 28,
     "metadata": {},
     "output_type": "execute_result"
    }
   ],
   "source": [
    "nba.select(4)"
   ]
  },
  {
   "cell_type": "code",
   "execution_count": 29,
   "id": "07919350",
   "metadata": {},
   "outputs": [
    {
     "data": {
      "text/plain": [
       "array([40231758, 38506482, 38506482, 38199000, 38199000, 38199000,\n",
       "       37436858, 34996296, 34449964, 32742000, 32742000, 32742000,\n",
       "       32742000, 32742000, 32700690, 32511624, 31742000, 30603448,\n",
       "       30560700, 30350000, 29802321, 28942830, 28000000, 28000000,\n",
       "       27739975, 27556959, 27504630, 27504630, 27504630, 27285000,\n",
       "       27285000, 27285000, 27285000, 27250575, 27093019, 27093019,\n",
       "       27093018, 27093017, 26231111, 26000000, 25842697, 25842697,\n",
       "       25595700, 25565217, 25102511, 24147727, 23271604, 23241573,\n",
       "       22615559, 21000000, 20025127, 20000000, 19894737, 19863636,\n",
       "       19500000, 19269662, 19217900, 19000000, 18606556, 18539130,\n",
       "       18539130, 18500000, 18000000, 18000000, 17839286, 17650000,\n",
       "       17185185, 17150000, 17000000, 17000000, 16720000, 16229213,\n",
       "       16200000, 16000000, 15680000, 15643750, 15625000, 15625000,\n",
       "       15500000, 15450051, 15349400, 15000000, 15000000, 14896552,\n",
       "       14651700, 14634146, 14500000, 14471910, 14057730, 14041096,\n",
       "       13565218, 13486300, 13437500, 13333333, 13125000, 13000000,\n",
       "       12900000, 12776786, 12759670, 12758781, 12727273, 12667885,\n",
       "       12553571, 12500000, 12500000, 12500000, 12428571, 12400000,\n",
       "       12345680, 12195122, 12093023, 12000000, 11954546, 11692308,\n",
       "       11392857, 11301219, 11286516, 11286516, 11011234, 10810000,\n",
       "       10740740, 10605600, 10500000, 10259375, 10116576, 10116576,\n",
       "       10000000, 10000000,  9881598,  9757440,  9745200,  9732396,\n",
       "        9607500,  9600000,  9562920,  9473684,  9346153,  9346153,\n",
       "        9258000,  9258000,  9133907,  9073050,  9000000,  8730240,\n",
       "        8719320,  8664928,  8556120,  8529386,  8349039,  8333333,\n",
       "        8156500,  8113930,  8089282,  8000000,  8000000,  8000000,\n",
       "        8000000,  8000000,  7839960,  7830000,  7815533,  7683360,\n",
       "        7666667,  7464912,  7461380,  7333333,  7333333,  7317073,\n",
       "        7265485,  7250000,  7119650,  7068360,  7059480,  7000000,\n",
       "        7000000,  7000000,  6927480,  6825000,  6534829,  6500000,\n",
       "        6481482,  6400920,  6392760,  6300000,  6273000,  6134520,\n",
       "        6000000,  6000000,  5846154,  5813640,  5806440,  5718000,\n",
       "        5700000,  5697600,  5500000,  5455236,  5453280,  5450000,\n",
       "        5348007,  5307120,  5300400,  5285394,  5201400,  5000000,\n",
       "        5000000,  4996000,  4862040,  4861208,  4855800,  4807693,\n",
       "        4767000,  4767000,  4767000,  4767000,  4767000,  4767000,\n",
       "        4767000,  4767000,  4767000,  4767000,  4764960,  4469160,\n",
       "        4464226,  4463640,  4444746,  4380120,  4320500,  4245720,\n",
       "        4240200,  4161000,  4160000,  4102564,  4033440,  4028400,\n",
       "        4000000,  4000000,  4000000,  4000000,  3952920,  3831840,\n",
       "        3827160,  3755400,  3754886,  3640200,  3635760,  3623000,\n",
       "        3581986,  3569643,  3567720,  3551000,  3540000,  3529555,\n",
       "        3500000,  3500000,  3500000,  3500000,  3481986,  3481986,\n",
       "        3458400,  3454080,  3389400,  3377569,  3321030,  3285120,\n",
       "        3280920,  3219480,  3150000,  3058800,  3000000,  3000000,\n",
       "        3000000,  2964840,  2961120,  2907143,  2905800,  2875000,\n",
       "        2816760,  2813280,  2750000,  2731714,  2689920,  2689920,\n",
       "        2686560,  2636280,  2625718,  2625000,  2603982,  2582160,\n",
       "        2578800,  2564753,  2564753,  2564753,  2530680,  2505793,\n",
       "        2500000,  2500000,  2478840,  2475840,  2445085,  2445085,\n",
       "        2429400,  2379840,  2376840,  2351839,  2338847,  2332320,\n",
       "        2329200,  2321735,  2305057,  2284800,  2281800,  2281800,\n",
       "        2250000,  2222803,  2193480,  2177483,  2149560,  2147317,\n",
       "        2105520,  2063520,  2054856,  2035800,  2033160,  2028594,\n",
       "        2028594,  2000000,  2000000,  2000000,  1995120,  1977000,\n",
       "        1974600,  1964760,  1962360,  1950600,  1948080,  1937520,\n",
       "        1925880,  1911600,  1897800,  1882867,  1845301,  1845301,\n",
       "        1795015,  1750000,  1737145,  1737145,  1723050,  1702486,\n",
       "        1699236,  1698450,  1678854,  1678854,  1676735,  1656092,\n",
       "        1656092,  1655160,  1645357,  1645357,  1645357,  1645357,\n",
       "        1645357,  1620564,  1620564,  1620564,  1620564,  1620564,\n",
       "        1620564,  1620564,  1620564,  1620564,  1620564,  1620564,\n",
       "        1620564,  1620564,  1620564,  1620564,  1620564,  1620564,\n",
       "        1620564,  1620564,  1620564,  1620564,  1620564,  1620564,\n",
       "        1620564,  1620564,  1620564,  1620564,  1620564,  1620564,\n",
       "        1620564,  1620564,  1618520,  1618520,  1618520,  1618520,\n",
       "        1618520,  1618520,  1618520,  1618520,  1618420,  1600520,\n",
       "        1599712,  1588231,  1588231,  1588231,  1588231,  1588231,\n",
       "        1569360,  1544951,  1544951,  1544951,  1544951,  1544951,\n",
       "        1529007,  1512601,  1512601,  1512601,  1512601,  1500000,\n",
       "        1500000,  1500000,  1455697,  1445697,  1445697,  1445697,\n",
       "        1445697,  1445697,  1419138,  1416852,  1416852,  1416852,\n",
       "        1416852,  1416852,  1416852,  1416852,  1416852,  1416852,\n",
       "        1416852,  1416852,  1416852,  1416852,  1416852,  1416852,\n",
       "        1416852,  1416852,  1416852,  1416852,  1416852,  1416852,\n",
       "        1416852,  1416852,  1416852,  1416842,  1416842,  1400000,\n",
       "        1400000,  1378242,  1378242,  1378242,  1378242,  1378242,\n",
       "        1378242,  1378242,  1378242,  1378242,  1364204,  1349464,\n",
       "        1349383,  1349383,  1290960,  1228026,  1187862,  1173310,\n",
       "        1052909,  1042584,  1000000,  1000000,   948580,   903111,\n",
       "         898310,   898310,   898310,   898310,   898310,   898310,\n",
       "         898310,   898310,   898310,   898310,   898310,   898310,\n",
       "         898310,   898310,   898310,   898310,   898310,   898310,\n",
       "         898310,   898310,   898310,   842327,   838464,   746054,\n",
       "         654469,   654469,   604278,   595122,   578573,   563347,\n",
       "         555409,   522738,   512721,   512721,   482144,   466918,\n",
       "         439475,   384541,   375385,   350189,   350189,   350189,\n",
       "         245686,   208509,   197933,   183115,   183115,   155647])"
      ]
     },
     "execution_count": 29,
     "metadata": {},
     "output_type": "execute_result"
    }
   ],
   "source": [
    "nba.column('$')"
   ]
  },
  {
   "cell_type": "code",
   "execution_count": 30,
   "id": "1484d3d9",
   "metadata": {},
   "outputs": [],
   "source": [
    "salaries = nba.column('$')"
   ]
  },
  {
   "cell_type": "code",
   "execution_count": 31,
   "id": "3bab8d5f",
   "metadata": {},
   "outputs": [
    {
     "data": {
      "text/plain": [
       "40231758"
      ]
     },
     "execution_count": 31,
     "metadata": {},
     "output_type": "execute_result"
    }
   ],
   "source": [
    "np.max(salaries)"
   ]
  },
  {
   "cell_type": "code",
   "execution_count": 32,
   "id": "ed9f69c5",
   "metadata": {},
   "outputs": [
    {
     "data": {
      "text/plain": [
       "155647"
      ]
     },
     "execution_count": 32,
     "metadata": {},
     "output_type": "execute_result"
    }
   ],
   "source": [
    "np.min(salaries)"
   ]
  },
  {
   "cell_type": "code",
   "execution_count": 33,
   "id": "402b068e",
   "metadata": {},
   "outputs": [
    {
     "data": {
      "text/plain": [
       "7286796.9147727275"
      ]
     },
     "execution_count": 33,
     "metadata": {},
     "output_type": "execute_result"
    }
   ],
   "source": [
    "np.average(salaries)"
   ]
  },
  {
   "cell_type": "code",
   "execution_count": 34,
   "id": "b9bbf680",
   "metadata": {},
   "outputs": [
    {
     "data": {
      "text/plain": [
       "3847428771"
      ]
     },
     "execution_count": 34,
     "metadata": {},
     "output_type": "execute_result"
    }
   ],
   "source": [
    "np.sum(salaries)"
   ]
  },
  {
   "cell_type": "code",
   "execution_count": 35,
   "id": "56319a06",
   "metadata": {},
   "outputs": [
    {
     "data": {
      "text/html": [
       "<table border=\"1\" class=\"dataframe\">\n",
       "    <thead>\n",
       "        <tr>\n",
       "            <th>rank</th> <th>name</th> <th>position</th> <th>team</th> <th>$</th>\n",
       "        </tr>\n",
       "    </thead>\n",
       "    <tbody>\n",
       "        <tr>\n",
       "            <td>1   </td> <td>Stephen Curry    </td> <td>PG      </td> <td>Golden State Warriors</td> <td>40231758</td>\n",
       "        </tr>\n",
       "        <tr>\n",
       "            <td>2   </td> <td>Chris Paul       </td> <td>PG      </td> <td>Oklahoma City Thunder</td> <td>38506482</td>\n",
       "        </tr>\n",
       "        <tr>\n",
       "            <td>3   </td> <td>Russell Westbrook</td> <td>PG      </td> <td>Houston Rockets      </td> <td>38506482</td>\n",
       "        </tr>\n",
       "        <tr>\n",
       "            <td>4   </td> <td>John Wall        </td> <td>PG      </td> <td>Washington Wizards   </td> <td>38199000</td>\n",
       "        </tr>\n",
       "        <tr>\n",
       "            <td>5   </td> <td>Kevin Durant     </td> <td>SF      </td> <td>Brooklyn Nets        </td> <td>38199000</td>\n",
       "        </tr>\n",
       "        <tr>\n",
       "            <td>6   </td> <td>James Harden     </td> <td>SG      </td> <td>Houston Rockets      </td> <td>38199000</td>\n",
       "        </tr>\n",
       "        <tr>\n",
       "            <td>7   </td> <td>LeBron James     </td> <td>SF      </td> <td>Los Angeles Lakers   </td> <td>37436858</td>\n",
       "        </tr>\n",
       "        <tr>\n",
       "            <td>8   </td> <td>Kyle Lowry       </td> <td>PG      </td> <td>Toronto Raptors      </td> <td>34996296</td>\n",
       "        </tr>\n",
       "        <tr>\n",
       "            <td>9   </td> <td>Blake Griffin    </td> <td>PF      </td> <td>Detroit Pistons      </td> <td>34449964</td>\n",
       "        </tr>\n",
       "        <tr>\n",
       "            <td>10  </td> <td>Tobias Harris    </td> <td>SF      </td> <td>Philadelphia 76ers   </td> <td>32742000</td>\n",
       "        </tr>\n",
       "    </tbody>\n",
       "</table>\n",
       "<p>... (518 rows omitted)</p>"
      ],
      "text/plain": [
       "rank | name              | position | team                  | $\n",
       "1    | Stephen Curry     | PG       | Golden State Warriors | 40231758\n",
       "2    | Chris Paul        | PG       | Oklahoma City Thunder | 38506482\n",
       "3    | Russell Westbrook | PG       | Houston Rockets       | 38506482\n",
       "4    | John Wall         | PG       | Washington Wizards    | 38199000\n",
       "5    | Kevin Durant      | SF       | Brooklyn Nets         | 38199000\n",
       "6    | James Harden      | SG       | Houston Rockets       | 38199000\n",
       "7    | LeBron James      | SF       | Los Angeles Lakers    | 37436858\n",
       "8    | Kyle Lowry        | PG       | Toronto Raptors       | 34996296\n",
       "9    | Blake Griffin     | PF       | Detroit Pistons       | 34449964\n",
       "10   | Tobias Harris     | SF       | Philadelphia 76ers    | 32742000\n",
       "... (518 rows omitted)"
      ]
     },
     "execution_count": 35,
     "metadata": {},
     "output_type": "execute_result"
    }
   ],
   "source": [
    "nba"
   ]
  },
  {
   "cell_type": "code",
   "execution_count": 39,
   "id": "ce54994e",
   "metadata": {},
   "outputs": [],
   "source": [
    "warriors = nba.where('team', 'Golden State Warriors')"
   ]
  },
  {
   "cell_type": "code",
   "execution_count": 44,
   "id": "aeecce9a",
   "metadata": {},
   "outputs": [
    {
     "data": {
      "text/html": [
       "<table border=\"1\" class=\"dataframe\">\n",
       "    <thead>\n",
       "        <tr>\n",
       "            <th>rank</th> <th>name</th> <th>position</th> <th>team</th> <th>$</th>\n",
       "        </tr>\n",
       "    </thead>\n",
       "    <tbody>\n",
       "        <tr>\n",
       "            <td>1   </td> <td>Stephen Curry      </td> <td>PG      </td> <td>Golden State Warriors</td> <td>40231758</td>\n",
       "        </tr>\n",
       "        <tr>\n",
       "            <td>13  </td> <td>Klay Thompson      </td> <td>SG      </td> <td>Golden State Warriors</td> <td>32742000</td>\n",
       "        </tr>\n",
       "        <tr>\n",
       "            <td>60  </td> <td>Draymond Green     </td> <td>PF      </td> <td>Golden State Warriors</td> <td>18539130</td>\n",
       "        </tr>\n",
       "        <tr>\n",
       "            <td>223 </td> <td>Kevon Looney       </td> <td>PF      </td> <td>Golden State Warriors</td> <td>4464226 </td>\n",
       "        </tr>\n",
       "        <tr>\n",
       "            <td>316 </td> <td>Willie Cauley-Stein</td> <td>C       </td> <td>Golden State Warriors</td> <td>2177483 </td>\n",
       "        </tr>\n",
       "        <tr>\n",
       "            <td>332 </td> <td>Jordan Poole       </td> <td>SG      </td> <td>Golden State Warriors</td> <td>1964760 </td>\n",
       "        </tr>\n",
       "        <tr>\n",
       "            <td>339 </td> <td>Omari Spellman     </td> <td>PF      </td> <td>Golden State Warriors</td> <td>1897800 </td>\n",
       "        </tr>\n",
       "        <tr>\n",
       "            <td>496 </td> <td>Alen Smailagic     </td> <td>PF      </td> <td>Golden State Warriors</td> <td>898310  </td>\n",
       "        </tr>\n",
       "        <tr>\n",
       "            <td>497 </td> <td>Eric Paschall      </td> <td>PF      </td> <td>Golden State Warriors</td> <td>898310  </td>\n",
       "        </tr>\n",
       "        <tr>\n",
       "            <td>502 </td> <td>Damion Lee         </td> <td>SG      </td> <td>Golden State Warriors</td> <td>842327  </td>\n",
       "        </tr>\n",
       "    </tbody>\n",
       "</table>\n",
       "<p>... (3 rows omitted)</p>"
      ],
      "text/plain": [
       "rank | name                | position | team                  | $\n",
       "1    | Stephen Curry       | PG       | Golden State Warriors | 40231758\n",
       "13   | Klay Thompson       | SG       | Golden State Warriors | 32742000\n",
       "60   | Draymond Green      | PF       | Golden State Warriors | 18539130\n",
       "223  | Kevon Looney        | PF       | Golden State Warriors | 4464226\n",
       "316  | Willie Cauley-Stein | C        | Golden State Warriors | 2177483\n",
       "332  | Jordan Poole        | SG       | Golden State Warriors | 1964760\n",
       "339  | Omari Spellman      | PF       | Golden State Warriors | 1897800\n",
       "496  | Alen Smailagic      | PF       | Golden State Warriors | 898310\n",
       "497  | Eric Paschall       | PF       | Golden State Warriors | 898310\n",
       "502  | Damion Lee          | SG       | Golden State Warriors | 842327\n",
       "... (3 rows omitted)"
      ]
     },
     "execution_count": 44,
     "metadata": {},
     "output_type": "execute_result"
    }
   ],
   "source": [
    "warriors"
   ]
  },
  {
   "cell_type": "code",
   "execution_count": 54,
   "id": "09f542d6",
   "metadata": {},
   "outputs": [],
   "source": [
    "lakers = nba.where('team', 'Los Angeles Lakers').take(np.arange(13))"
   ]
  },
  {
   "cell_type": "code",
   "execution_count": 55,
   "id": "2e791ab8",
   "metadata": {},
   "outputs": [
    {
     "data": {
      "text/html": [
       "<table border=\"1\" class=\"dataframe\">\n",
       "    <thead>\n",
       "        <tr>\n",
       "            <th>rank</th> <th>name</th> <th>position</th> <th>team</th> <th>$</th>\n",
       "        </tr>\n",
       "    </thead>\n",
       "    <tbody>\n",
       "        <tr>\n",
       "            <td>7   </td> <td>LeBron James            </td> <td>SF      </td> <td>Los Angeles Lakers</td> <td>37436858</td>\n",
       "        </tr>\n",
       "        <tr>\n",
       "            <td>37  </td> <td>Anthony Davis           </td> <td>PF      </td> <td>Los Angeles Lakers</td> <td>27093018</td>\n",
       "        </tr>\n",
       "        <tr>\n",
       "            <td>75  </td> <td>JR Smith                </td> <td>SG      </td> <td>Los Angeles Lakers</td> <td>15680000</td>\n",
       "        </tr>\n",
       "        <tr>\n",
       "            <td>86  </td> <td>Danny Green             </td> <td>SG      </td> <td>Los Angeles Lakers</td> <td>14634146</td>\n",
       "        </tr>\n",
       "        <tr>\n",
       "            <td>153 </td> <td>Kentavious Caldwell-Pope</td> <td>SG      </td> <td>Los Angeles Lakers</td> <td>8089282 </td>\n",
       "        </tr>\n",
       "        <tr>\n",
       "            <td>217 </td> <td>Avery Bradley           </td> <td>PG      </td> <td>Los Angeles Lakers</td> <td>4767000 </td>\n",
       "        </tr>\n",
       "        <tr>\n",
       "            <td>237 </td> <td>JaVale McGee            </td> <td>C       </td> <td>Los Angeles Lakers</td> <td>4000000 </td>\n",
       "        </tr>\n",
       "        <tr>\n",
       "            <td>254 </td> <td>DeMarcus Cousins        </td> <td>C       </td> <td>Los Angeles Lakers</td> <td>3500000 </td>\n",
       "        </tr>\n",
       "        <tr>\n",
       "            <td>270 </td> <td>Quinn Cook              </td> <td>PG      </td> <td>Los Angeles Lakers</td> <td>3000000 </td>\n",
       "        </tr>\n",
       "        <tr>\n",
       "            <td>279 </td> <td>Alex Caruso             </td> <td>SG      </td> <td>Los Angeles Lakers</td> <td>2750000 </td>\n",
       "        </tr>\n",
       "    </tbody>\n",
       "</table>\n",
       "<p>... (3 rows omitted)</p>"
      ],
      "text/plain": [
       "rank | name                     | position | team               | $\n",
       "7    | LeBron James             | SF       | Los Angeles Lakers | 37436858\n",
       "37   | Anthony Davis            | PF       | Los Angeles Lakers | 27093018\n",
       "75   | JR Smith                 | SG       | Los Angeles Lakers | 15680000\n",
       "86   | Danny Green              | SG       | Los Angeles Lakers | 14634146\n",
       "153  | Kentavious Caldwell-Pope | SG       | Los Angeles Lakers | 8089282\n",
       "217  | Avery Bradley            | PG       | Los Angeles Lakers | 4767000\n",
       "237  | JaVale McGee             | C        | Los Angeles Lakers | 4000000\n",
       "254  | DeMarcus Cousins         | C        | Los Angeles Lakers | 3500000\n",
       "270  | Quinn Cook               | PG       | Los Angeles Lakers | 3000000\n",
       "279  | Alex Caruso              | SG       | Los Angeles Lakers | 2750000\n",
       "... (3 rows omitted)"
      ]
     },
     "execution_count": 55,
     "metadata": {},
     "output_type": "execute_result"
    }
   ],
   "source": [
    "lakers"
   ]
  },
  {
   "cell_type": "code",
   "execution_count": 56,
   "id": "77011f84",
   "metadata": {},
   "outputs": [],
   "source": [
    "gsw_sal = warriors.column('$')\n",
    "la_sal = lakers.column('$')"
   ]
  },
  {
   "cell_type": "code",
   "execution_count": 57,
   "id": "3a4fd145",
   "metadata": {},
   "outputs": [
    {
     "data": {
      "text/plain": [
       "8154688.538461538"
      ]
     },
     "execution_count": 57,
     "metadata": {},
     "output_type": "execute_result"
    }
   ],
   "source": [
    "np.average(gsw_sal)"
   ]
  },
  {
   "cell_type": "code",
   "execution_count": 58,
   "id": "0da16369",
   "metadata": {},
   "outputs": [
    {
     "data": {
      "text/plain": [
       "9787665.9230769239"
      ]
     },
     "execution_count": 58,
     "metadata": {},
     "output_type": "execute_result"
    }
   ],
   "source": [
    "np.average(la_sal)"
   ]
  },
  {
   "cell_type": "code",
   "execution_count": 52,
   "id": "be6b93f5",
   "metadata": {},
   "outputs": [
    {
     "data": {
      "text/plain": [
       "13"
      ]
     },
     "execution_count": 52,
     "metadata": {},
     "output_type": "execute_result"
    }
   ],
   "source": [
    "warriors.num_rows"
   ]
  },
  {
   "cell_type": "code",
   "execution_count": 53,
   "id": "7f8c015c",
   "metadata": {},
   "outputs": [
    {
     "data": {
      "text/plain": [
       "18"
      ]
     },
     "execution_count": 53,
     "metadata": {},
     "output_type": "execute_result"
    }
   ],
   "source": [
    "lakers.num_rows"
   ]
  },
  {
   "cell_type": "code",
   "execution_count": null,
   "id": "6e533ca8",
   "metadata": {},
   "outputs": [],
   "source": []
  }
 ],
 "metadata": {
  "kernelspec": {
   "display_name": "Python 3 (ipykernel)",
   "language": "python",
   "name": "python3"
  },
  "language_info": {
   "codemirror_mode": {
    "name": "ipython",
    "version": 3
   },
   "file_extension": ".py",
   "mimetype": "text/x-python",
   "name": "python",
   "nbconvert_exporter": "python",
   "pygments_lexer": "ipython3",
   "version": "3.10.11"
  }
 },
 "nbformat": 4,
 "nbformat_minor": 5
}
