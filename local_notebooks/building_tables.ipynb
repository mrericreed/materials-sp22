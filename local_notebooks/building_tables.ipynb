{
 "cells": [
  {
   "cell_type": "code",
   "execution_count": 1,
   "id": "ed62b124",
   "metadata": {},
   "outputs": [],
   "source": [
    "from datascience import *\n",
    "import numpy as np"
   ]
  },
  {
   "cell_type": "code",
   "execution_count": 2,
   "id": "e2a1c3bd",
   "metadata": {},
   "outputs": [],
   "source": [
    "nba = Table.read_table('nba_salaries.csv')"
   ]
  },
  {
   "cell_type": "code",
   "execution_count": 13,
   "id": "ec756f50",
   "metadata": {},
   "outputs": [],
   "source": [
    "planets = make_array(\"Mercury\", \"Venus\", \"Earth\", \"Mars\", \"Jupiter\", \"Saturn\", \"Uranus\", \"Neptune\")"
   ]
  },
  {
   "cell_type": "code",
   "execution_count": 8,
   "id": "386e1f79",
   "metadata": {},
   "outputs": [
    {
     "data": {
      "text/html": [
       "<table border=\"1\" class=\"dataframe\">\n",
       "    <thead>\n",
       "        <tr>\n",
       "            \n",
       "        </tr>\n",
       "    </thead>\n",
       "    <tbody>\n",
       "    </tbody>\n",
       "</table>"
      ],
      "text/plain": []
     },
     "execution_count": 8,
     "metadata": {},
     "output_type": "execute_result"
    }
   ],
   "source": [
    "planets"
   ]
  },
  {
   "cell_type": "code",
   "execution_count": 20,
   "id": "16326aff",
   "metadata": {},
   "outputs": [],
   "source": [
    "planet_table = Table()"
   ]
  },
  {
   "cell_type": "code",
   "execution_count": 21,
   "id": "94e4af25",
   "metadata": {},
   "outputs": [
    {
     "data": {
      "text/html": [
       "<table border=\"1\" class=\"dataframe\">\n",
       "    <thead>\n",
       "        <tr>\n",
       "            \n",
       "        </tr>\n",
       "    </thead>\n",
       "    <tbody>\n",
       "    </tbody>\n",
       "</table>"
      ],
      "text/plain": []
     },
     "execution_count": 21,
     "metadata": {},
     "output_type": "execute_result"
    }
   ],
   "source": [
    "planet_table"
   ]
  },
  {
   "cell_type": "code",
   "execution_count": 22,
   "id": "c1a44d08",
   "metadata": {},
   "outputs": [
    {
     "data": {
      "text/plain": [
       "datascience.tables.Table"
      ]
     },
     "execution_count": 22,
     "metadata": {},
     "output_type": "execute_result"
    }
   ],
   "source": [
    "type(planet_table)"
   ]
  },
  {
   "cell_type": "code",
   "execution_count": 23,
   "id": "46827f46",
   "metadata": {},
   "outputs": [
    {
     "data": {
      "text/html": [
       "<table border=\"1\" class=\"dataframe\">\n",
       "    <thead>\n",
       "        <tr>\n",
       "            <th>Planet Name</th>\n",
       "        </tr>\n",
       "    </thead>\n",
       "    <tbody>\n",
       "        <tr>\n",
       "            <td>Mercury    </td>\n",
       "        </tr>\n",
       "        <tr>\n",
       "            <td>Venus      </td>\n",
       "        </tr>\n",
       "        <tr>\n",
       "            <td>Earth      </td>\n",
       "        </tr>\n",
       "        <tr>\n",
       "            <td>Mars       </td>\n",
       "        </tr>\n",
       "        <tr>\n",
       "            <td>Jupiter    </td>\n",
       "        </tr>\n",
       "        <tr>\n",
       "            <td>Saturn     </td>\n",
       "        </tr>\n",
       "        <tr>\n",
       "            <td>Uranus     </td>\n",
       "        </tr>\n",
       "        <tr>\n",
       "            <td>Neptune    </td>\n",
       "        </tr>\n",
       "    </tbody>\n",
       "</table>"
      ],
      "text/plain": [
       "Planet Name\n",
       "Mercury\n",
       "Venus\n",
       "Earth\n",
       "Mars\n",
       "Jupiter\n",
       "Saturn\n",
       "Uranus\n",
       "Neptune"
      ]
     },
     "execution_count": 23,
     "metadata": {},
     "output_type": "execute_result"
    }
   ],
   "source": [
    "planet_table.with_column('Planet Name', planets)"
   ]
  },
  {
   "cell_type": "code",
   "execution_count": 24,
   "id": "ba602bc2",
   "metadata": {},
   "outputs": [
    {
     "data": {
      "text/html": [
       "<table border=\"1\" class=\"dataframe\">\n",
       "    <thead>\n",
       "        <tr>\n",
       "            \n",
       "        </tr>\n",
       "    </thead>\n",
       "    <tbody>\n",
       "    </tbody>\n",
       "</table>"
      ],
      "text/plain": []
     },
     "execution_count": 24,
     "metadata": {},
     "output_type": "execute_result"
    }
   ],
   "source": [
    "planet_table"
   ]
  },
  {
   "cell_type": "code",
   "execution_count": 25,
   "id": "6f92ffdb",
   "metadata": {},
   "outputs": [],
   "source": [
    "planet_table = planet_table.with_column('Planet Name', planets)"
   ]
  },
  {
   "cell_type": "code",
   "execution_count": 17,
   "id": "d85c10b8",
   "metadata": {},
   "outputs": [
    {
     "data": {
      "text/html": [
       "<table border=\"1\" class=\"dataframe\">\n",
       "    <thead>\n",
       "        <tr>\n",
       "            <th>Planet Name</th>\n",
       "        </tr>\n",
       "    </thead>\n",
       "    <tbody>\n",
       "        <tr>\n",
       "            <td>Mercury    </td>\n",
       "        </tr>\n",
       "        <tr>\n",
       "            <td>Venus      </td>\n",
       "        </tr>\n",
       "        <tr>\n",
       "            <td>Earth      </td>\n",
       "        </tr>\n",
       "        <tr>\n",
       "            <td>Mars       </td>\n",
       "        </tr>\n",
       "        <tr>\n",
       "            <td>Jupiter    </td>\n",
       "        </tr>\n",
       "        <tr>\n",
       "            <td>Saturn     </td>\n",
       "        </tr>\n",
       "        <tr>\n",
       "            <td>Uranus     </td>\n",
       "        </tr>\n",
       "        <tr>\n",
       "            <td>Neptune    </td>\n",
       "        </tr>\n",
       "    </tbody>\n",
       "</table>"
      ],
      "text/plain": [
       "Planet Name\n",
       "Mercury\n",
       "Venus\n",
       "Earth\n",
       "Mars\n",
       "Jupiter\n",
       "Saturn\n",
       "Uranus\n",
       "Neptune"
      ]
     },
     "execution_count": 17,
     "metadata": {},
     "output_type": "execute_result"
    }
   ],
   "source": [
    "planet_table"
   ]
  },
  {
   "cell_type": "code",
   "execution_count": 26,
   "id": "63063e5e",
   "metadata": {},
   "outputs": [],
   "source": [
    "planet_table = planet_table.with_column('Planet Position', np.arange(1, 9))"
   ]
  },
  {
   "cell_type": "code",
   "execution_count": 27,
   "id": "6a5d00d0",
   "metadata": {},
   "outputs": [
    {
     "data": {
      "text/html": [
       "<table border=\"1\" class=\"dataframe\">\n",
       "    <thead>\n",
       "        <tr>\n",
       "            <th>Planet Name</th> <th>Planet Position</th>\n",
       "        </tr>\n",
       "    </thead>\n",
       "    <tbody>\n",
       "        <tr>\n",
       "            <td>Mercury    </td> <td>1              </td>\n",
       "        </tr>\n",
       "        <tr>\n",
       "            <td>Venus      </td> <td>2              </td>\n",
       "        </tr>\n",
       "        <tr>\n",
       "            <td>Earth      </td> <td>3              </td>\n",
       "        </tr>\n",
       "        <tr>\n",
       "            <td>Mars       </td> <td>4              </td>\n",
       "        </tr>\n",
       "        <tr>\n",
       "            <td>Jupiter    </td> <td>5              </td>\n",
       "        </tr>\n",
       "        <tr>\n",
       "            <td>Saturn     </td> <td>6              </td>\n",
       "        </tr>\n",
       "        <tr>\n",
       "            <td>Uranus     </td> <td>7              </td>\n",
       "        </tr>\n",
       "        <tr>\n",
       "            <td>Neptune    </td> <td>8              </td>\n",
       "        </tr>\n",
       "    </tbody>\n",
       "</table>"
      ],
      "text/plain": [
       "Planet Name | Planet Position\n",
       "Mercury     | 1\n",
       "Venus       | 2\n",
       "Earth       | 3\n",
       "Mars        | 4\n",
       "Jupiter     | 5\n",
       "Saturn      | 6\n",
       "Uranus      | 7\n",
       "Neptune     | 8"
      ]
     },
     "execution_count": 27,
     "metadata": {},
     "output_type": "execute_result"
    }
   ],
   "source": [
    "planet_table"
   ]
  },
  {
   "cell_type": "code",
   "execution_count": null,
   "id": "9664e145",
   "metadata": {},
   "outputs": [],
   "source": []
  }
 ],
 "metadata": {
  "kernelspec": {
   "display_name": "Python 3 (ipykernel)",
   "language": "python",
   "name": "python3"
  },
  "language_info": {
   "codemirror_mode": {
    "name": "ipython",
    "version": 3
   },
   "file_extension": ".py",
   "mimetype": "text/x-python",
   "name": "python",
   "nbconvert_exporter": "python",
   "pygments_lexer": "ipython3",
   "version": "3.10.11"
  }
 },
 "nbformat": 4,
 "nbformat_minor": 5
}
