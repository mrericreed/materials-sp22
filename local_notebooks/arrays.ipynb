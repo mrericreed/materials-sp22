{
 "cells": [
  {
   "cell_type": "code",
   "execution_count": 1,
   "id": "75d9cf42",
   "metadata": {},
   "outputs": [],
   "source": [
    "from datascience import *\n",
    "import numpy as np"
   ]
  },
  {
   "cell_type": "code",
   "execution_count": 2,
   "id": "3874b26a",
   "metadata": {},
   "outputs": [
    {
     "data": {
      "text/plain": [
       "array([1, 2, 3, 4])"
      ]
     },
     "execution_count": 2,
     "metadata": {},
     "output_type": "execute_result"
    }
   ],
   "source": [
    "make_array(1, 2, 3, 4)"
   ]
  },
  {
   "cell_type": "code",
   "execution_count": 3,
   "id": "f09697cb",
   "metadata": {},
   "outputs": [],
   "source": [
    "hourly_wages = make_array(18.75, 30.25, 25.24, 157.32)"
   ]
  },
  {
   "cell_type": "code",
   "execution_count": 4,
   "id": "c813fdfd",
   "metadata": {},
   "outputs": [
    {
     "data": {
      "text/plain": [
       "array([  18.75,   30.25,   25.24,  157.32])"
      ]
     },
     "execution_count": 4,
     "metadata": {},
     "output_type": "execute_result"
    }
   ],
   "source": [
    "hourly_wages"
   ]
  },
  {
   "cell_type": "code",
   "execution_count": 5,
   "id": "6571f33e",
   "metadata": {},
   "outputs": [
    {
     "data": {
      "text/plain": [
       "array([  18.75,   25.24,   30.25,  157.32])"
      ]
     },
     "execution_count": 5,
     "metadata": {},
     "output_type": "execute_result"
    }
   ],
   "source": [
    "np.sort(hourly_wages)"
   ]
  },
  {
   "cell_type": "code",
   "execution_count": 6,
   "id": "ddc85075",
   "metadata": {},
   "outputs": [],
   "source": [
    "new_wages = hourly_wages + 1"
   ]
  },
  {
   "cell_type": "code",
   "execution_count": 7,
   "id": "3a71d024",
   "metadata": {},
   "outputs": [
    {
     "data": {
      "text/plain": [
       "array([  19.75,   31.25,   26.24,  158.32])"
      ]
     },
     "execution_count": 7,
     "metadata": {},
     "output_type": "execute_result"
    }
   ],
   "source": [
    "new_wages"
   ]
  },
  {
   "cell_type": "code",
   "execution_count": 8,
   "id": "fe5b8061",
   "metadata": {},
   "outputs": [],
   "source": [
    "new_wages = hourly_wages * 1.5"
   ]
  },
  {
   "cell_type": "code",
   "execution_count": 9,
   "id": "7abde497",
   "metadata": {},
   "outputs": [
    {
     "data": {
      "text/plain": [
       "array([  28.125,   45.375,   37.86 ,  235.98 ])"
      ]
     },
     "execution_count": 9,
     "metadata": {},
     "output_type": "execute_result"
    }
   ],
   "source": [
    "new_wages"
   ]
  },
  {
   "cell_type": "code",
   "execution_count": 10,
   "id": "859700df",
   "metadata": {},
   "outputs": [],
   "source": [
    "hours_worked = make_array(10, 15, 10, 40)"
   ]
  },
  {
   "cell_type": "code",
   "execution_count": 11,
   "id": "85369a4b",
   "metadata": {},
   "outputs": [],
   "source": [
    "earnings = new_wages * hours_worked"
   ]
  },
  {
   "cell_type": "code",
   "execution_count": 12,
   "id": "485591e5",
   "metadata": {},
   "outputs": [
    {
     "data": {
      "text/plain": [
       "array([  281.25 ,   680.625,   378.6  ,  9439.2  ])"
      ]
     },
     "execution_count": 12,
     "metadata": {},
     "output_type": "execute_result"
    }
   ],
   "source": [
    "earnings"
   ]
  },
  {
   "cell_type": "code",
   "execution_count": 13,
   "id": "0d98fdcb",
   "metadata": {},
   "outputs": [],
   "source": [
    "hours_worked = make_array(10, 10, 40)"
   ]
  },
  {
   "cell_type": "code",
   "execution_count": 14,
   "id": "a65e33eb",
   "metadata": {},
   "outputs": [
    {
     "ename": "ValueError",
     "evalue": "operands could not be broadcast together with shapes (4,) (3,) ",
     "output_type": "error",
     "traceback": [
      "\u001b[0;31m---------------------------------------------------------------------------\u001b[0m",
      "\u001b[0;31mValueError\u001b[0m                                Traceback (most recent call last)",
      "Cell \u001b[0;32mIn[14], line 1\u001b[0m\n\u001b[0;32m----> 1\u001b[0m earnings \u001b[38;5;241m=\u001b[39m \u001b[43mnew_wages\u001b[49m\u001b[43m \u001b[49m\u001b[38;5;241;43m*\u001b[39;49m\u001b[43m \u001b[49m\u001b[43mhours_worked\u001b[49m\n",
      "\u001b[0;31mValueError\u001b[0m: operands could not be broadcast together with shapes (4,) (3,) "
     ]
    }
   ],
   "source": [
    "earnings = new_wages * hours_worked"
   ]
  },
  {
   "cell_type": "code",
   "execution_count": 15,
   "id": "9ce739fe",
   "metadata": {},
   "outputs": [
    {
     "data": {
      "text/plain": [
       "array([3, 5, 7, 9])"
      ]
     },
     "execution_count": 15,
     "metadata": {},
     "output_type": "execute_result"
    }
   ],
   "source": [
    "np.arange(3, 10, 2)"
   ]
  },
  {
   "cell_type": "code",
   "execution_count": 16,
   "id": "74a27157",
   "metadata": {},
   "outputs": [
    {
     "data": {
      "text/plain": [
       "array([2, 4, 6, 8])"
      ]
     },
     "execution_count": 16,
     "metadata": {},
     "output_type": "execute_result"
    }
   ],
   "source": [
    "np.arange(2, 10, 2)"
   ]
  },
  {
   "cell_type": "code",
   "execution_count": 17,
   "id": "a67489de",
   "metadata": {},
   "outputs": [
    {
     "data": {
      "text/plain": [
       "array([ 2,  4,  6,  8, 10])"
      ]
     },
     "execution_count": 17,
     "metadata": {},
     "output_type": "execute_result"
    }
   ],
   "source": [
    "np.arange(2, 11, 2)"
   ]
  },
  {
   "cell_type": "code",
   "execution_count": 18,
   "id": "af489a70",
   "metadata": {},
   "outputs": [],
   "source": [
    "hours_worked = np.array([10, 15, 10, 40])"
   ]
  },
  {
   "cell_type": "code",
   "execution_count": 19,
   "id": "5e721424",
   "metadata": {},
   "outputs": [
    {
     "data": {
      "text/plain": [
       "array([10, 15, 10, 40])"
      ]
     },
     "execution_count": 19,
     "metadata": {},
     "output_type": "execute_result"
    }
   ],
   "source": [
    "hours_worked"
   ]
  },
  {
   "cell_type": "code",
   "execution_count": 20,
   "id": "bc5466c8",
   "metadata": {},
   "outputs": [],
   "source": [
    "earnings = new_wages * hours_worked"
   ]
  },
  {
   "cell_type": "code",
   "execution_count": 21,
   "id": "2eceaea0",
   "metadata": {},
   "outputs": [
    {
     "data": {
      "text/plain": [
       "array([  281.25 ,   680.625,   378.6  ,  9439.2  ])"
      ]
     },
     "execution_count": 21,
     "metadata": {},
     "output_type": "execute_result"
    }
   ],
   "source": [
    "earnings"
   ]
  },
  {
   "cell_type": "code",
   "execution_count": 22,
   "id": "d1aed790",
   "metadata": {},
   "outputs": [
    {
     "data": {
      "text/plain": [
       "10779.674999999999"
      ]
     },
     "execution_count": 22,
     "metadata": {},
     "output_type": "execute_result"
    }
   ],
   "source": [
    "np.sum(earnings)"
   ]
  },
  {
   "cell_type": "code",
   "execution_count": 23,
   "id": "6b16b056",
   "metadata": {},
   "outputs": [
    {
     "data": {
      "text/plain": [
       "86.834999999999994"
      ]
     },
     "execution_count": 23,
     "metadata": {},
     "output_type": "execute_result"
    }
   ],
   "source": [
    "np.average(new_wages)"
   ]
  },
  {
   "cell_type": "code",
   "execution_count": null,
   "id": "b52a1d4e",
   "metadata": {},
   "outputs": [],
   "source": []
  }
 ],
 "metadata": {
  "kernelspec": {
   "display_name": "Python 3 (ipykernel)",
   "language": "python",
   "name": "python3"
  },
  "language_info": {
   "codemirror_mode": {
    "name": "ipython",
    "version": 3
   },
   "file_extension": ".py",
   "mimetype": "text/x-python",
   "name": "python",
   "nbconvert_exporter": "python",
   "pygments_lexer": "ipython3",
   "version": "3.10.11"
  }
 },
 "nbformat": 4,
 "nbformat_minor": 5
}
