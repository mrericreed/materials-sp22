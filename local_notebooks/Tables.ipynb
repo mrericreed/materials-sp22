{
 "cells": [
  {
   "cell_type": "code",
   "execution_count": 36,
   "id": "f0b68fbf",
   "metadata": {},
   "outputs": [],
   "source": [
    "from datascience import *"
   ]
  },
  {
   "cell_type": "code",
   "execution_count": 37,
   "id": "4ebc76fa",
   "metadata": {},
   "outputs": [],
   "source": [
    "cones = Table.read_table('cones.csv')"
   ]
  },
  {
   "cell_type": "code",
   "execution_count": 38,
   "id": "a525a924",
   "metadata": {},
   "outputs": [
    {
     "data": {
      "text/html": [
       "<table border=\"1\" class=\"dataframe\">\n",
       "    <thead>\n",
       "        <tr>\n",
       "            <th>Flavor</th> <th>Color</th> <th>Price</th>\n",
       "        </tr>\n",
       "    </thead>\n",
       "    <tbody>\n",
       "        <tr>\n",
       "            <td>strawberry</td> <td>pink       </td> <td>3.55 </td>\n",
       "        </tr>\n",
       "        <tr>\n",
       "            <td>chocolate </td> <td>light brown</td> <td>4.75 </td>\n",
       "        </tr>\n",
       "        <tr>\n",
       "            <td>chocolate </td> <td>dark brown </td> <td>5.25 </td>\n",
       "        </tr>\n",
       "        <tr>\n",
       "            <td>strawberry</td> <td>pink       </td> <td>5.25 </td>\n",
       "        </tr>\n",
       "        <tr>\n",
       "            <td>chocolate </td> <td>dark brown </td> <td>5.25 </td>\n",
       "        </tr>\n",
       "        <tr>\n",
       "            <td>bubblegum </td> <td>pink       </td> <td>4.75 </td>\n",
       "        </tr>\n",
       "    </tbody>\n",
       "</table>"
      ],
      "text/plain": [
       "Flavor     | Color       | Price\n",
       "strawberry | pink        | 3.55\n",
       "chocolate  | light brown | 4.75\n",
       "chocolate  | dark brown  | 5.25\n",
       "strawberry | pink        | 5.25\n",
       "chocolate  | dark brown  | 5.25\n",
       "bubblegum  | pink        | 4.75"
      ]
     },
     "execution_count": 38,
     "metadata": {},
     "output_type": "execute_result"
    }
   ],
   "source": [
    "cones"
   ]
  },
  {
   "cell_type": "code",
   "execution_count": 39,
   "id": "13257729",
   "metadata": {},
   "outputs": [
    {
     "data": {
      "text/html": [
       "<table border=\"1\" class=\"dataframe\">\n",
       "    <thead>\n",
       "        <tr>\n",
       "            <th>Flavor</th> <th>Color</th> <th>Price</th>\n",
       "        </tr>\n",
       "    </thead>\n",
       "    <tbody>\n",
       "        <tr>\n",
       "            <td>strawberry</td> <td>pink       </td> <td>3.55 </td>\n",
       "        </tr>\n",
       "        <tr>\n",
       "            <td>chocolate </td> <td>light brown</td> <td>4.75 </td>\n",
       "        </tr>\n",
       "        <tr>\n",
       "            <td>chocolate </td> <td>dark brown </td> <td>5.25 </td>\n",
       "        </tr>\n",
       "        <tr>\n",
       "            <td>strawberry</td> <td>pink       </td> <td>5.25 </td>\n",
       "        </tr>\n",
       "        <tr>\n",
       "            <td>chocolate </td> <td>dark brown </td> <td>5.25 </td>\n",
       "        </tr>\n",
       "        <tr>\n",
       "            <td>bubblegum </td> <td>pink       </td> <td>4.75 </td>\n",
       "        </tr>\n",
       "    </tbody>\n",
       "</table>"
      ],
      "text/plain": [
       "<IPython.core.display.HTML object>"
      ]
     },
     "metadata": {},
     "output_type": "display_data"
    }
   ],
   "source": [
    "cones.show()"
   ]
  },
  {
   "cell_type": "code",
   "execution_count": 40,
   "id": "876b68e4",
   "metadata": {},
   "outputs": [
    {
     "data": {
      "text/html": [
       "<table border=\"1\" class=\"dataframe\">\n",
       "    <thead>\n",
       "        <tr>\n",
       "            <th>Flavor</th> <th>Color</th> <th>Price</th>\n",
       "        </tr>\n",
       "    </thead>\n",
       "    <tbody>\n",
       "        <tr>\n",
       "            <td>strawberry</td> <td>pink       </td> <td>3.55 </td>\n",
       "        </tr>\n",
       "        <tr>\n",
       "            <td>chocolate </td> <td>light brown</td> <td>4.75 </td>\n",
       "        </tr>\n",
       "        <tr>\n",
       "            <td>chocolate </td> <td>dark brown </td> <td>5.25 </td>\n",
       "        </tr>\n",
       "    </tbody>\n",
       "</table>\n",
       "<p>... (3 rows omitted)</p>"
      ],
      "text/plain": [
       "<IPython.core.display.HTML object>"
      ]
     },
     "metadata": {},
     "output_type": "display_data"
    }
   ],
   "source": [
    "cones.show(3)"
   ]
  },
  {
   "cell_type": "code",
   "execution_count": 41,
   "id": "522ccf0d",
   "metadata": {},
   "outputs": [
    {
     "data": {
      "text/html": [
       "<table border=\"1\" class=\"dataframe\">\n",
       "    <thead>\n",
       "        <tr>\n",
       "            <th>Flavor</th>\n",
       "        </tr>\n",
       "    </thead>\n",
       "    <tbody>\n",
       "        <tr>\n",
       "            <td>strawberry</td>\n",
       "        </tr>\n",
       "        <tr>\n",
       "            <td>chocolate </td>\n",
       "        </tr>\n",
       "        <tr>\n",
       "            <td>chocolate </td>\n",
       "        </tr>\n",
       "        <tr>\n",
       "            <td>strawberry</td>\n",
       "        </tr>\n",
       "        <tr>\n",
       "            <td>chocolate </td>\n",
       "        </tr>\n",
       "        <tr>\n",
       "            <td>bubblegum </td>\n",
       "        </tr>\n",
       "    </tbody>\n",
       "</table>"
      ],
      "text/plain": [
       "Flavor\n",
       "strawberry\n",
       "chocolate\n",
       "chocolate\n",
       "strawberry\n",
       "chocolate\n",
       "bubblegum"
      ]
     },
     "execution_count": 41,
     "metadata": {},
     "output_type": "execute_result"
    }
   ],
   "source": [
    "cones.select(\"Flavor\")"
   ]
  },
  {
   "cell_type": "code",
   "execution_count": 42,
   "id": "90f925f6",
   "metadata": {},
   "outputs": [
    {
     "data": {
      "text/html": [
       "<table border=\"1\" class=\"dataframe\">\n",
       "    <thead>\n",
       "        <tr>\n",
       "            <th>Flavor</th> <th>Color</th> <th>Price</th>\n",
       "        </tr>\n",
       "    </thead>\n",
       "    <tbody>\n",
       "        <tr>\n",
       "            <td>strawberry</td> <td>pink       </td> <td>3.55 </td>\n",
       "        </tr>\n",
       "        <tr>\n",
       "            <td>chocolate </td> <td>light brown</td> <td>4.75 </td>\n",
       "        </tr>\n",
       "        <tr>\n",
       "            <td>chocolate </td> <td>dark brown </td> <td>5.25 </td>\n",
       "        </tr>\n",
       "        <tr>\n",
       "            <td>strawberry</td> <td>pink       </td> <td>5.25 </td>\n",
       "        </tr>\n",
       "        <tr>\n",
       "            <td>chocolate </td> <td>dark brown </td> <td>5.25 </td>\n",
       "        </tr>\n",
       "        <tr>\n",
       "            <td>bubblegum </td> <td>pink       </td> <td>4.75 </td>\n",
       "        </tr>\n",
       "    </tbody>\n",
       "</table>"
      ],
      "text/plain": [
       "Flavor     | Color       | Price\n",
       "strawberry | pink        | 3.55\n",
       "chocolate  | light brown | 4.75\n",
       "chocolate  | dark brown  | 5.25\n",
       "strawberry | pink        | 5.25\n",
       "chocolate  | dark brown  | 5.25\n",
       "bubblegum  | pink        | 4.75"
      ]
     },
     "execution_count": 42,
     "metadata": {},
     "output_type": "execute_result"
    }
   ],
   "source": [
    "cones"
   ]
  },
  {
   "cell_type": "code",
   "execution_count": 44,
   "id": "22e84905",
   "metadata": {},
   "outputs": [
    {
     "data": {
      "text/html": [
       "<table border=\"1\" class=\"dataframe\">\n",
       "    <thead>\n",
       "        <tr>\n",
       "            <th>Flavor</th> <th>Color</th>\n",
       "        </tr>\n",
       "    </thead>\n",
       "    <tbody>\n",
       "        <tr>\n",
       "            <td>strawberry</td> <td>pink       </td>\n",
       "        </tr>\n",
       "        <tr>\n",
       "            <td>chocolate </td> <td>light brown</td>\n",
       "        </tr>\n",
       "        <tr>\n",
       "            <td>chocolate </td> <td>dark brown </td>\n",
       "        </tr>\n",
       "        <tr>\n",
       "            <td>strawberry</td> <td>pink       </td>\n",
       "        </tr>\n",
       "        <tr>\n",
       "            <td>chocolate </td> <td>dark brown </td>\n",
       "        </tr>\n",
       "        <tr>\n",
       "            <td>bubblegum </td> <td>pink       </td>\n",
       "        </tr>\n",
       "    </tbody>\n",
       "</table>"
      ],
      "text/plain": [
       "Flavor     | Color\n",
       "strawberry | pink\n",
       "chocolate  | light brown\n",
       "chocolate  | dark brown\n",
       "strawberry | pink\n",
       "chocolate  | dark brown\n",
       "bubblegum  | pink"
      ]
     },
     "execution_count": 44,
     "metadata": {},
     "output_type": "execute_result"
    }
   ],
   "source": [
    "cones.select(\"Flavor\", \"Color\")"
   ]
  },
  {
   "cell_type": "code",
   "execution_count": 45,
   "id": "bb90d622",
   "metadata": {},
   "outputs": [
    {
     "ename": "ValueError",
     "evalue": "The column \"flavor\" is not in the table. The table contains these columns: Flavor, Color, Price",
     "output_type": "error",
     "traceback": [
      "\u001b[0;31m---------------------------------------------------------------------------\u001b[0m",
      "\u001b[0;31mValueError\u001b[0m                                Traceback (most recent call last)",
      "Cell \u001b[0;32mIn[45], line 1\u001b[0m\n\u001b[0;32m----> 1\u001b[0m \u001b[43mcones\u001b[49m\u001b[38;5;241;43m.\u001b[39;49m\u001b[43mselect\u001b[49m\u001b[43m(\u001b[49m\u001b[38;5;124;43m'\u001b[39;49m\u001b[38;5;124;43mflavor\u001b[39;49m\u001b[38;5;124;43m'\u001b[39;49m\u001b[43m)\u001b[49m\n",
      "File \u001b[0;32m/opt/conda/lib/python3.10/site-packages/datascience/tables.py:1272\u001b[0m, in \u001b[0;36mTable.select\u001b[0;34m(self, *column_or_columns)\u001b[0m\n\u001b[1;32m   1270\u001b[0m table \u001b[38;5;241m=\u001b[39m \u001b[38;5;28mtype\u001b[39m(\u001b[38;5;28mself\u001b[39m)()\n\u001b[1;32m   1271\u001b[0m \u001b[38;5;28;01mfor\u001b[39;00m label \u001b[38;5;129;01min\u001b[39;00m labels:\n\u001b[0;32m-> 1272\u001b[0m     \u001b[38;5;28mself\u001b[39m\u001b[38;5;241m.\u001b[39m_add_column_and_format(table, label, np\u001b[38;5;241m.\u001b[39mcopy(\u001b[38;5;28;43mself\u001b[39;49m\u001b[43m[\u001b[49m\u001b[43mlabel\u001b[49m\u001b[43m]\u001b[49m))\n\u001b[1;32m   1273\u001b[0m \u001b[38;5;28;01mreturn\u001b[39;00m table\n",
      "File \u001b[0;32m/opt/conda/lib/python3.10/site-packages/datascience/tables.py:281\u001b[0m, in \u001b[0;36mTable.__getitem__\u001b[0;34m(self, index_or_label)\u001b[0m\n\u001b[1;32m    280\u001b[0m \u001b[38;5;28;01mdef\u001b[39;00m \u001b[38;5;21m__getitem__\u001b[39m(\u001b[38;5;28mself\u001b[39m, index_or_label):\n\u001b[0;32m--> 281\u001b[0m     \u001b[38;5;28;01mreturn\u001b[39;00m \u001b[38;5;28;43mself\u001b[39;49m\u001b[38;5;241;43m.\u001b[39;49m\u001b[43mcolumn\u001b[49m\u001b[43m(\u001b[49m\u001b[43mindex_or_label\u001b[49m\u001b[43m)\u001b[49m\n",
      "File \u001b[0;32m/opt/conda/lib/python3.10/site-packages/datascience/tables.py:448\u001b[0m, in \u001b[0;36mTable.column\u001b[0;34m(self, index_or_label)\u001b[0m\n\u001b[1;32m    423\u001b[0m \u001b[38;5;250m\u001b[39m\u001b[38;5;124;03m\"\"\"Return the values of a column as an array.\u001b[39;00m\n\u001b[1;32m    424\u001b[0m \n\u001b[1;32m    425\u001b[0m \u001b[38;5;124;03mtable.column(label) is equivalent to table[label].\u001b[39;00m\n\u001b[0;32m   (...)\u001b[0m\n\u001b[1;32m    444\u001b[0m \u001b[38;5;124;03m    ``ValueError``: When the ``index_or_label`` is not in the table.\u001b[39;00m\n\u001b[1;32m    445\u001b[0m \u001b[38;5;124;03m\"\"\"\u001b[39;00m\n\u001b[1;32m    446\u001b[0m \u001b[38;5;28;01mif\u001b[39;00m (\u001b[38;5;28misinstance\u001b[39m(index_or_label, \u001b[38;5;28mstr\u001b[39m)\n\u001b[1;32m    447\u001b[0m         \u001b[38;5;129;01mand\u001b[39;00m index_or_label \u001b[38;5;129;01mnot\u001b[39;00m \u001b[38;5;129;01min\u001b[39;00m \u001b[38;5;28mself\u001b[39m\u001b[38;5;241m.\u001b[39mlabels):\n\u001b[0;32m--> 448\u001b[0m     \u001b[38;5;28;01mraise\u001b[39;00m \u001b[38;5;167;01mValueError\u001b[39;00m(\n\u001b[1;32m    449\u001b[0m         \u001b[38;5;124m'\u001b[39m\u001b[38;5;124mThe column \u001b[39m\u001b[38;5;124m\"\u001b[39m\u001b[38;5;132;01m{}\u001b[39;00m\u001b[38;5;124m\"\u001b[39m\u001b[38;5;124m is not in the table. The table contains \u001b[39m\u001b[38;5;124m'\u001b[39m\n\u001b[1;32m    450\u001b[0m         \u001b[38;5;124m'\u001b[39m\u001b[38;5;124mthese columns: \u001b[39m\u001b[38;5;132;01m{}\u001b[39;00m\u001b[38;5;124m'\u001b[39m\n\u001b[1;32m    451\u001b[0m         \u001b[38;5;241m.\u001b[39mformat(index_or_label, \u001b[38;5;124m'\u001b[39m\u001b[38;5;124m, \u001b[39m\u001b[38;5;124m'\u001b[39m\u001b[38;5;241m.\u001b[39mjoin(\u001b[38;5;28mself\u001b[39m\u001b[38;5;241m.\u001b[39mlabels))\n\u001b[1;32m    452\u001b[0m     )\n\u001b[1;32m    453\u001b[0m \u001b[38;5;28;01mif\u001b[39;00m (\u001b[38;5;28misinstance\u001b[39m(index_or_label, \u001b[38;5;28mint\u001b[39m)\n\u001b[1;32m    454\u001b[0m         \u001b[38;5;129;01mand\u001b[39;00m \u001b[38;5;129;01mnot\u001b[39;00m \u001b[38;5;241m0\u001b[39m \u001b[38;5;241m<\u001b[39m\u001b[38;5;241m=\u001b[39m index_or_label \u001b[38;5;241m<\u001b[39m \u001b[38;5;28mlen\u001b[39m(\u001b[38;5;28mself\u001b[39m\u001b[38;5;241m.\u001b[39mlabels)):\n\u001b[1;32m    455\u001b[0m     \u001b[38;5;28;01mraise\u001b[39;00m \u001b[38;5;167;01mValueError\u001b[39;00m(\n\u001b[1;32m    456\u001b[0m         \u001b[38;5;124m'\u001b[39m\u001b[38;5;124mThe index \u001b[39m\u001b[38;5;132;01m{}\u001b[39;00m\u001b[38;5;124m is not in the table. Only indices between \u001b[39m\u001b[38;5;124m'\u001b[39m\n\u001b[1;32m    457\u001b[0m         \u001b[38;5;124m'\u001b[39m\u001b[38;5;124m0 and \u001b[39m\u001b[38;5;132;01m{}\u001b[39;00m\u001b[38;5;124m are valid\u001b[39m\u001b[38;5;124m'\u001b[39m\n\u001b[1;32m    458\u001b[0m         \u001b[38;5;241m.\u001b[39mformat(index_or_label, \u001b[38;5;28mlen\u001b[39m(\u001b[38;5;28mself\u001b[39m\u001b[38;5;241m.\u001b[39mlabels) \u001b[38;5;241m-\u001b[39m \u001b[38;5;241m1\u001b[39m)\n\u001b[1;32m    459\u001b[0m     )\n",
      "\u001b[0;31mValueError\u001b[0m: The column \"flavor\" is not in the table. The table contains these columns: Flavor, Color, Price"
     ]
    }
   ],
   "source": [
    "cones.select('flavor')"
   ]
  },
  {
   "cell_type": "code",
   "execution_count": 46,
   "id": "c4fe9098",
   "metadata": {},
   "outputs": [
    {
     "data": {
      "text/html": [
       "<table border=\"1\" class=\"dataframe\">\n",
       "    <thead>\n",
       "        <tr>\n",
       "            <th>Flavor</th> <th>Color</th>\n",
       "        </tr>\n",
       "    </thead>\n",
       "    <tbody>\n",
       "        <tr>\n",
       "            <td>strawberry</td> <td>pink       </td>\n",
       "        </tr>\n",
       "        <tr>\n",
       "            <td>chocolate </td> <td>light brown</td>\n",
       "        </tr>\n",
       "        <tr>\n",
       "            <td>chocolate </td> <td>dark brown </td>\n",
       "        </tr>\n",
       "        <tr>\n",
       "            <td>strawberry</td> <td>pink       </td>\n",
       "        </tr>\n",
       "        <tr>\n",
       "            <td>chocolate </td> <td>dark brown </td>\n",
       "        </tr>\n",
       "        <tr>\n",
       "            <td>bubblegum </td> <td>pink       </td>\n",
       "        </tr>\n",
       "    </tbody>\n",
       "</table>"
      ],
      "text/plain": [
       "Flavor     | Color\n",
       "strawberry | pink\n",
       "chocolate  | light brown\n",
       "chocolate  | dark brown\n",
       "strawberry | pink\n",
       "chocolate  | dark brown\n",
       "bubblegum  | pink"
      ]
     },
     "execution_count": 46,
     "metadata": {},
     "output_type": "execute_result"
    }
   ],
   "source": [
    "cones.drop(\"Price\")"
   ]
  },
  {
   "cell_type": "code",
   "execution_count": 47,
   "id": "5bab5739",
   "metadata": {},
   "outputs": [
    {
     "data": {
      "text/html": [
       "<table border=\"1\" class=\"dataframe\">\n",
       "    <thead>\n",
       "        <tr>\n",
       "            <th>Flavor</th> <th>Color</th> <th>Price</th>\n",
       "        </tr>\n",
       "    </thead>\n",
       "    <tbody>\n",
       "        <tr>\n",
       "            <td>strawberry</td> <td>pink       </td> <td>3.55 </td>\n",
       "        </tr>\n",
       "        <tr>\n",
       "            <td>chocolate </td> <td>light brown</td> <td>4.75 </td>\n",
       "        </tr>\n",
       "        <tr>\n",
       "            <td>chocolate </td> <td>dark brown </td> <td>5.25 </td>\n",
       "        </tr>\n",
       "        <tr>\n",
       "            <td>strawberry</td> <td>pink       </td> <td>5.25 </td>\n",
       "        </tr>\n",
       "        <tr>\n",
       "            <td>chocolate </td> <td>dark brown </td> <td>5.25 </td>\n",
       "        </tr>\n",
       "        <tr>\n",
       "            <td>bubblegum </td> <td>pink       </td> <td>4.75 </td>\n",
       "        </tr>\n",
       "    </tbody>\n",
       "</table>"
      ],
      "text/plain": [
       "Flavor     | Color       | Price\n",
       "strawberry | pink        | 3.55\n",
       "chocolate  | light brown | 4.75\n",
       "chocolate  | dark brown  | 5.25\n",
       "strawberry | pink        | 5.25\n",
       "chocolate  | dark brown  | 5.25\n",
       "bubblegum  | pink        | 4.75"
      ]
     },
     "execution_count": 47,
     "metadata": {},
     "output_type": "execute_result"
    }
   ],
   "source": [
    "cones"
   ]
  },
  {
   "cell_type": "code",
   "execution_count": 48,
   "id": "55c24a1c",
   "metadata": {},
   "outputs": [],
   "source": [
    "cones_without_price = cones.drop(\"Price\")"
   ]
  },
  {
   "cell_type": "code",
   "execution_count": 49,
   "id": "ef450435",
   "metadata": {},
   "outputs": [
    {
     "data": {
      "text/html": [
       "<table border=\"1\" class=\"dataframe\">\n",
       "    <thead>\n",
       "        <tr>\n",
       "            <th>Flavor</th> <th>Color</th>\n",
       "        </tr>\n",
       "    </thead>\n",
       "    <tbody>\n",
       "        <tr>\n",
       "            <td>strawberry</td> <td>pink       </td>\n",
       "        </tr>\n",
       "        <tr>\n",
       "            <td>chocolate </td> <td>light brown</td>\n",
       "        </tr>\n",
       "        <tr>\n",
       "            <td>chocolate </td> <td>dark brown </td>\n",
       "        </tr>\n",
       "        <tr>\n",
       "            <td>strawberry</td> <td>pink       </td>\n",
       "        </tr>\n",
       "        <tr>\n",
       "            <td>chocolate </td> <td>dark brown </td>\n",
       "        </tr>\n",
       "        <tr>\n",
       "            <td>bubblegum </td> <td>pink       </td>\n",
       "        </tr>\n",
       "    </tbody>\n",
       "</table>"
      ],
      "text/plain": [
       "Flavor     | Color\n",
       "strawberry | pink\n",
       "chocolate  | light brown\n",
       "chocolate  | dark brown\n",
       "strawberry | pink\n",
       "chocolate  | dark brown\n",
       "bubblegum  | pink"
      ]
     },
     "execution_count": 49,
     "metadata": {},
     "output_type": "execute_result"
    }
   ],
   "source": [
    "cones_without_price"
   ]
  },
  {
   "cell_type": "code",
   "execution_count": 50,
   "id": "faf4d5d4",
   "metadata": {},
   "outputs": [
    {
     "data": {
      "text/html": [
       "<table border=\"1\" class=\"dataframe\">\n",
       "    <thead>\n",
       "        <tr>\n",
       "            <th>Flavor</th> <th>Color</th> <th>Price</th>\n",
       "        </tr>\n",
       "    </thead>\n",
       "    <tbody>\n",
       "        <tr>\n",
       "            <td>strawberry</td> <td>pink       </td> <td>3.55 </td>\n",
       "        </tr>\n",
       "        <tr>\n",
       "            <td>chocolate </td> <td>light brown</td> <td>4.75 </td>\n",
       "        </tr>\n",
       "        <tr>\n",
       "            <td>chocolate </td> <td>dark brown </td> <td>5.25 </td>\n",
       "        </tr>\n",
       "        <tr>\n",
       "            <td>strawberry</td> <td>pink       </td> <td>5.25 </td>\n",
       "        </tr>\n",
       "        <tr>\n",
       "            <td>chocolate </td> <td>dark brown </td> <td>5.25 </td>\n",
       "        </tr>\n",
       "        <tr>\n",
       "            <td>bubblegum </td> <td>pink       </td> <td>4.75 </td>\n",
       "        </tr>\n",
       "    </tbody>\n",
       "</table>"
      ],
      "text/plain": [
       "Flavor     | Color       | Price\n",
       "strawberry | pink        | 3.55\n",
       "chocolate  | light brown | 4.75\n",
       "chocolate  | dark brown  | 5.25\n",
       "strawberry | pink        | 5.25\n",
       "chocolate  | dark brown  | 5.25\n",
       "bubblegum  | pink        | 4.75"
      ]
     },
     "execution_count": 50,
     "metadata": {},
     "output_type": "execute_result"
    }
   ],
   "source": [
    "cones"
   ]
  },
  {
   "cell_type": "code",
   "execution_count": 51,
   "id": "a867780a",
   "metadata": {},
   "outputs": [],
   "source": [
    "cones = cones.drop(\"Price\")"
   ]
  },
  {
   "cell_type": "code",
   "execution_count": 52,
   "id": "392cb04d",
   "metadata": {},
   "outputs": [
    {
     "data": {
      "text/html": [
       "<table border=\"1\" class=\"dataframe\">\n",
       "    <thead>\n",
       "        <tr>\n",
       "            <th>Flavor</th> <th>Color</th>\n",
       "        </tr>\n",
       "    </thead>\n",
       "    <tbody>\n",
       "        <tr>\n",
       "            <td>strawberry</td> <td>pink       </td>\n",
       "        </tr>\n",
       "        <tr>\n",
       "            <td>chocolate </td> <td>light brown</td>\n",
       "        </tr>\n",
       "        <tr>\n",
       "            <td>chocolate </td> <td>dark brown </td>\n",
       "        </tr>\n",
       "        <tr>\n",
       "            <td>strawberry</td> <td>pink       </td>\n",
       "        </tr>\n",
       "        <tr>\n",
       "            <td>chocolate </td> <td>dark brown </td>\n",
       "        </tr>\n",
       "        <tr>\n",
       "            <td>bubblegum </td> <td>pink       </td>\n",
       "        </tr>\n",
       "    </tbody>\n",
       "</table>"
      ],
      "text/plain": [
       "Flavor     | Color\n",
       "strawberry | pink\n",
       "chocolate  | light brown\n",
       "chocolate  | dark brown\n",
       "strawberry | pink\n",
       "chocolate  | dark brown\n",
       "bubblegum  | pink"
      ]
     },
     "execution_count": 52,
     "metadata": {},
     "output_type": "execute_result"
    }
   ],
   "source": [
    "cones"
   ]
  },
  {
   "cell_type": "code",
   "execution_count": 53,
   "id": "ba2e6305",
   "metadata": {},
   "outputs": [],
   "source": [
    "# From https://github.com/erikgregorywebb/datasets/blob/master/nba-salaries.csv\n",
    "nba = Table.read_table('nba_salaries.csv')"
   ]
  },
  {
   "cell_type": "code",
   "execution_count": 54,
   "id": "42f561f5",
   "metadata": {},
   "outputs": [
    {
     "data": {
      "text/html": [
       "<table border=\"1\" class=\"dataframe\">\n",
       "    <thead>\n",
       "        <tr>\n",
       "            <th>rank</th> <th>name</th> <th>position</th> <th>team</th> <th>salary</th> <th>season</th>\n",
       "        </tr>\n",
       "    </thead>\n",
       "    <tbody>\n",
       "        <tr>\n",
       "            <td>1   </td> <td>Shaquille O'Neal</td> <td>C       </td> <td>Los Angeles Lakers    </td> <td>17142000</td> <td>2000  </td>\n",
       "        </tr>\n",
       "        <tr>\n",
       "            <td>2   </td> <td>Kevin Garnett   </td> <td>PF      </td> <td>Minnesota Timberwolves</td> <td>16806000</td> <td>2000  </td>\n",
       "        </tr>\n",
       "        <tr>\n",
       "            <td>3   </td> <td>Alonzo Mourning </td> <td>C       </td> <td>Miami Heat            </td> <td>15004000</td> <td>2000  </td>\n",
       "        </tr>\n",
       "        <tr>\n",
       "            <td>4   </td> <td>Juwan Howard    </td> <td>PF      </td> <td>Washington Wizards    </td> <td>15000000</td> <td>2000  </td>\n",
       "        </tr>\n",
       "        <tr>\n",
       "            <td>5   </td> <td>Scottie Pippen  </td> <td>SF      </td> <td>Portland Trail Blazers</td> <td>14795000</td> <td>2000  </td>\n",
       "        </tr>\n",
       "        <tr>\n",
       "            <td>6   </td> <td>Karl Malone     </td> <td>PF      </td> <td>Utah Jazz             </td> <td>14000000</td> <td>2000  </td>\n",
       "        </tr>\n",
       "        <tr>\n",
       "            <td>7   </td> <td>Larry Johnson   </td> <td>F       </td> <td>New York Knicks       </td> <td>11910000</td> <td>2000  </td>\n",
       "        </tr>\n",
       "        <tr>\n",
       "            <td>8   </td> <td>Gary Payton     </td> <td>PG      </td> <td>Seattle SuperSonics   </td> <td>11020000</td> <td>2000  </td>\n",
       "        </tr>\n",
       "        <tr>\n",
       "            <td>9   </td> <td>Rasheed Wallace </td> <td>PF      </td> <td>Portland Trail Blazers</td> <td>10800000</td> <td>2000  </td>\n",
       "        </tr>\n",
       "        <tr>\n",
       "            <td>10  </td> <td>Shawn Kemp      </td> <td>C       </td> <td>Cleveland Cavaliers   </td> <td>10780000</td> <td>2000  </td>\n",
       "        </tr>\n",
       "    </tbody>\n",
       "</table>\n",
       "<p>... (9446 rows omitted)</p>"
      ],
      "text/plain": [
       "rank | name             | position | team                   | salary   | season\n",
       "1    | Shaquille O'Neal | C        | Los Angeles Lakers     | 17142000 | 2000\n",
       "2    | Kevin Garnett    | PF       | Minnesota Timberwolves | 16806000 | 2000\n",
       "3    | Alonzo Mourning  | C        | Miami Heat             | 15004000 | 2000\n",
       "4    | Juwan Howard     | PF       | Washington Wizards     | 15000000 | 2000\n",
       "5    | Scottie Pippen   | SF       | Portland Trail Blazers | 14795000 | 2000\n",
       "6    | Karl Malone      | PF       | Utah Jazz              | 14000000 | 2000\n",
       "7    | Larry Johnson    | F        | New York Knicks        | 11910000 | 2000\n",
       "8    | Gary Payton      | PG       | Seattle SuperSonics    | 11020000 | 2000\n",
       "9    | Rasheed Wallace  | PF       | Portland Trail Blazers | 10800000 | 2000\n",
       "10   | Shawn Kemp       | C        | Cleveland Cavaliers    | 10780000 | 2000\n",
       "... (9446 rows omitted)"
      ]
     },
     "execution_count": 54,
     "metadata": {},
     "output_type": "execute_result"
    }
   ],
   "source": [
    "nba"
   ]
  },
  {
   "cell_type": "code",
   "execution_count": 55,
   "id": "38d52317",
   "metadata": {},
   "outputs": [
    {
     "data": {
      "text/html": [
       "<table border=\"1\" class=\"dataframe\">\n",
       "    <thead>\n",
       "        <tr>\n",
       "            <th>rank</th> <th>name</th> <th>position</th> <th>team</th> <th>salary</th> <th>season</th>\n",
       "        </tr>\n",
       "    </thead>\n",
       "    <tbody>\n",
       "        <tr>\n",
       "            <td>8   </td> <td>Gary Payton     </td> <td>PG      </td> <td>Seattle SuperSonics   </td> <td>11020000</td> <td>2000  </td>\n",
       "        </tr>\n",
       "        <tr>\n",
       "            <td>11  </td> <td>Damon Stoudamire</td> <td>PG      </td> <td>Portland Trail Blazers</td> <td>10125000</td> <td>2000  </td>\n",
       "        </tr>\n",
       "        <tr>\n",
       "            <td>20  </td> <td>Stephon Marbury </td> <td>PG      </td> <td>New Jersey Nets       </td> <td>9000000 </td> <td>2000  </td>\n",
       "        </tr>\n",
       "        <tr>\n",
       "            <td>24  </td> <td>Nick Van Exel   </td> <td>PG      </td> <td>Denver Nuggets        </td> <td>8354000 </td> <td>2000  </td>\n",
       "        </tr>\n",
       "        <tr>\n",
       "            <td>26  </td> <td>Terrell Brandon </td> <td>PG      </td> <td>Minnesota Timberwolves</td> <td>7400000 </td> <td>2000  </td>\n",
       "        </tr>\n",
       "        <tr>\n",
       "            <td>34  </td> <td>Jason Kidd      </td> <td>PG      </td> <td>Phoenix Suns          </td> <td>6858000 </td> <td>2000  </td>\n",
       "        </tr>\n",
       "        <tr>\n",
       "            <td>35  </td> <td>Kenny Anderson  </td> <td>PG      </td> <td>Boston Celtics        </td> <td>6680000 </td> <td>2000  </td>\n",
       "        </tr>\n",
       "        <tr>\n",
       "            <td>39  </td> <td>Steve Nash      </td> <td>PG      </td> <td>Dallas Mavericks      </td> <td>5500000 </td> <td>2000  </td>\n",
       "        </tr>\n",
       "        <tr>\n",
       "            <td>55  </td> <td>Charlie Ward    </td> <td>PG      </td> <td>New York Knicks       </td> <td>4540000 </td> <td>2000  </td>\n",
       "        </tr>\n",
       "        <tr>\n",
       "            <td>61  </td> <td>Darrel Armstrong</td> <td>PG      </td> <td>Orlando Magic         </td> <td>4125000 </td> <td>2000  </td>\n",
       "        </tr>\n",
       "    </tbody>\n",
       "</table>\n",
       "<p>... (1465 rows omitted)</p>"
      ],
      "text/plain": [
       "rank | name             | position | team                   | salary   | season\n",
       "8    | Gary Payton      | PG       | Seattle SuperSonics    | 11020000 | 2000\n",
       "11   | Damon Stoudamire | PG       | Portland Trail Blazers | 10125000 | 2000\n",
       "20   | Stephon Marbury  | PG       | New Jersey Nets        | 9000000  | 2000\n",
       "24   | Nick Van Exel    | PG       | Denver Nuggets         | 8354000  | 2000\n",
       "26   | Terrell Brandon  | PG       | Minnesota Timberwolves | 7400000  | 2000\n",
       "34   | Jason Kidd       | PG       | Phoenix Suns           | 6858000  | 2000\n",
       "35   | Kenny Anderson   | PG       | Boston Celtics         | 6680000  | 2000\n",
       "39   | Steve Nash       | PG       | Dallas Mavericks       | 5500000  | 2000\n",
       "55   | Charlie Ward     | PG       | New York Knicks        | 4540000  | 2000\n",
       "61   | Darrel Armstrong | PG       | Orlando Magic          | 4125000  | 2000\n",
       "... (1465 rows omitted)"
      ]
     },
     "execution_count": 55,
     "metadata": {},
     "output_type": "execute_result"
    }
   ],
   "source": [
    "nba.where('position', 'PG')"
   ]
  },
  {
   "cell_type": "code",
   "execution_count": 56,
   "id": "473fb333",
   "metadata": {},
   "outputs": [],
   "source": [
    "point_guards = nba.where('position', 'PG')"
   ]
  },
  {
   "cell_type": "code",
   "execution_count": 57,
   "id": "fbd60dd1",
   "metadata": {},
   "outputs": [
    {
     "data": {
      "text/html": [
       "<table border=\"1\" class=\"dataframe\">\n",
       "    <thead>\n",
       "        <tr>\n",
       "            <th>rank</th> <th>name</th> <th>position</th> <th>team</th> <th>salary</th> <th>season</th>\n",
       "        </tr>\n",
       "    </thead>\n",
       "    <tbody>\n",
       "        <tr>\n",
       "            <td>8   </td> <td>Gary Payton     </td> <td>PG      </td> <td>Seattle SuperSonics   </td> <td>11020000</td> <td>2000  </td>\n",
       "        </tr>\n",
       "        <tr>\n",
       "            <td>11  </td> <td>Damon Stoudamire</td> <td>PG      </td> <td>Portland Trail Blazers</td> <td>10125000</td> <td>2000  </td>\n",
       "        </tr>\n",
       "        <tr>\n",
       "            <td>20  </td> <td>Stephon Marbury </td> <td>PG      </td> <td>New Jersey Nets       </td> <td>9000000 </td> <td>2000  </td>\n",
       "        </tr>\n",
       "        <tr>\n",
       "            <td>24  </td> <td>Nick Van Exel   </td> <td>PG      </td> <td>Denver Nuggets        </td> <td>8354000 </td> <td>2000  </td>\n",
       "        </tr>\n",
       "        <tr>\n",
       "            <td>26  </td> <td>Terrell Brandon </td> <td>PG      </td> <td>Minnesota Timberwolves</td> <td>7400000 </td> <td>2000  </td>\n",
       "        </tr>\n",
       "        <tr>\n",
       "            <td>34  </td> <td>Jason Kidd      </td> <td>PG      </td> <td>Phoenix Suns          </td> <td>6858000 </td> <td>2000  </td>\n",
       "        </tr>\n",
       "        <tr>\n",
       "            <td>35  </td> <td>Kenny Anderson  </td> <td>PG      </td> <td>Boston Celtics        </td> <td>6680000 </td> <td>2000  </td>\n",
       "        </tr>\n",
       "        <tr>\n",
       "            <td>39  </td> <td>Steve Nash      </td> <td>PG      </td> <td>Dallas Mavericks      </td> <td>5500000 </td> <td>2000  </td>\n",
       "        </tr>\n",
       "        <tr>\n",
       "            <td>55  </td> <td>Charlie Ward    </td> <td>PG      </td> <td>New York Knicks       </td> <td>4540000 </td> <td>2000  </td>\n",
       "        </tr>\n",
       "        <tr>\n",
       "            <td>61  </td> <td>Darrel Armstrong</td> <td>PG      </td> <td>Orlando Magic         </td> <td>4125000 </td> <td>2000  </td>\n",
       "        </tr>\n",
       "    </tbody>\n",
       "</table>\n",
       "<p>... (1465 rows omitted)</p>"
      ],
      "text/plain": [
       "rank | name             | position | team                   | salary   | season\n",
       "8    | Gary Payton      | PG       | Seattle SuperSonics    | 11020000 | 2000\n",
       "11   | Damon Stoudamire | PG       | Portland Trail Blazers | 10125000 | 2000\n",
       "20   | Stephon Marbury  | PG       | New Jersey Nets        | 9000000  | 2000\n",
       "24   | Nick Van Exel    | PG       | Denver Nuggets         | 8354000  | 2000\n",
       "26   | Terrell Brandon  | PG       | Minnesota Timberwolves | 7400000  | 2000\n",
       "34   | Jason Kidd       | PG       | Phoenix Suns           | 6858000  | 2000\n",
       "35   | Kenny Anderson   | PG       | Boston Celtics         | 6680000  | 2000\n",
       "39   | Steve Nash       | PG       | Dallas Mavericks       | 5500000  | 2000\n",
       "55   | Charlie Ward     | PG       | New York Knicks        | 4540000  | 2000\n",
       "61   | Darrel Armstrong | PG       | Orlando Magic          | 4125000  | 2000\n",
       "... (1465 rows omitted)"
      ]
     },
     "execution_count": 57,
     "metadata": {},
     "output_type": "execute_result"
    }
   ],
   "source": [
    "point_guards"
   ]
  },
  {
   "cell_type": "code",
   "execution_count": 58,
   "id": "2ad1cbe0",
   "metadata": {},
   "outputs": [],
   "source": [
    "point_guards_2020 = point_guards.where('season', 2020)"
   ]
  },
  {
   "cell_type": "code",
   "execution_count": 59,
   "id": "be816b8d",
   "metadata": {},
   "outputs": [
    {
     "data": {
      "text/html": [
       "<table border=\"1\" class=\"dataframe\">\n",
       "    <thead>\n",
       "        <tr>\n",
       "            <th>rank</th> <th>name</th> <th>position</th> <th>team</th> <th>salary</th> <th>season</th>\n",
       "        </tr>\n",
       "    </thead>\n",
       "    <tbody>\n",
       "        <tr>\n",
       "            <td>1   </td> <td>Stephen Curry    </td> <td>PG      </td> <td>Golden State Warriors </td> <td>40231758</td> <td>2020  </td>\n",
       "        </tr>\n",
       "        <tr>\n",
       "            <td>2   </td> <td>Chris Paul       </td> <td>PG      </td> <td>Oklahoma City Thunder </td> <td>38506482</td> <td>2020  </td>\n",
       "        </tr>\n",
       "        <tr>\n",
       "            <td>3   </td> <td>Russell Westbrook</td> <td>PG      </td> <td>Houston Rockets       </td> <td>38506482</td> <td>2020  </td>\n",
       "        </tr>\n",
       "        <tr>\n",
       "            <td>4   </td> <td>John Wall        </td> <td>PG      </td> <td>Washington Wizards    </td> <td>38199000</td> <td>2020  </td>\n",
       "        </tr>\n",
       "        <tr>\n",
       "            <td>8   </td> <td>Kyle Lowry       </td> <td>PG      </td> <td>Toronto Raptors       </td> <td>34996296</td> <td>2020  </td>\n",
       "        </tr>\n",
       "        <tr>\n",
       "            <td>14  </td> <td>Kemba Walker     </td> <td>PG      </td> <td>Boston Celtics        </td> <td>32742000</td> <td>2020  </td>\n",
       "        </tr>\n",
       "        <tr>\n",
       "            <td>16  </td> <td>Mike Conley      </td> <td>PG      </td> <td>Utah Jazz             </td> <td>32511624</td> <td>2020  </td>\n",
       "        </tr>\n",
       "        <tr>\n",
       "            <td>17  </td> <td>Kyrie Irving     </td> <td>PG      </td> <td>Brooklyn Nets         </td> <td>31742000</td> <td>2020  </td>\n",
       "        </tr>\n",
       "        <tr>\n",
       "            <td>21  </td> <td>Damian Lillard   </td> <td>PG      </td> <td>Portland Trail Blazers</td> <td>29802321</td> <td>2020  </td>\n",
       "        </tr>\n",
       "        <tr>\n",
       "            <td>52  </td> <td>Malcolm Brogdon  </td> <td>PG      </td> <td>Indiana Pacers        </td> <td>20000000</td> <td>2020  </td>\n",
       "        </tr>\n",
       "    </tbody>\n",
       "</table>\n",
       "<p>... (72 rows omitted)</p>"
      ],
      "text/plain": [
       "rank | name              | position | team                   | salary   | season\n",
       "1    | Stephen Curry     | PG       | Golden State Warriors  | 40231758 | 2020\n",
       "2    | Chris Paul        | PG       | Oklahoma City Thunder  | 38506482 | 2020\n",
       "3    | Russell Westbrook | PG       | Houston Rockets        | 38506482 | 2020\n",
       "4    | John Wall         | PG       | Washington Wizards     | 38199000 | 2020\n",
       "8    | Kyle Lowry        | PG       | Toronto Raptors        | 34996296 | 2020\n",
       "14   | Kemba Walker      | PG       | Boston Celtics         | 32742000 | 2020\n",
       "16   | Mike Conley       | PG       | Utah Jazz              | 32511624 | 2020\n",
       "17   | Kyrie Irving      | PG       | Brooklyn Nets          | 31742000 | 2020\n",
       "21   | Damian Lillard    | PG       | Portland Trail Blazers | 29802321 | 2020\n",
       "52   | Malcolm Brogdon   | PG       | Indiana Pacers         | 20000000 | 2020\n",
       "... (72 rows omitted)"
      ]
     },
     "execution_count": 59,
     "metadata": {},
     "output_type": "execute_result"
    }
   ],
   "source": [
    "point_guards_2020"
   ]
  },
  {
   "cell_type": "code",
   "execution_count": 60,
   "id": "722a8cf7",
   "metadata": {},
   "outputs": [
    {
     "data": {
      "text/html": [
       "<table border=\"1\" class=\"dataframe\">\n",
       "    <thead>\n",
       "        <tr>\n",
       "            <th>rank</th> <th>name</th> <th>position</th> <th>team</th> <th>salary</th> <th>season</th>\n",
       "        </tr>\n",
       "    </thead>\n",
       "    <tbody>\n",
       "        <tr>\n",
       "            <td>522 </td> <td>Ky Bowman      </td> <td>PG      </td> <td>Golden State Warriors</td> <td>350189 </td> <td>2020  </td>\n",
       "        </tr>\n",
       "        <tr>\n",
       "            <td>513 </td> <td>Reggie Jackson </td> <td>PG      </td> <td>LA Clippers          </td> <td>512721 </td> <td>2020  </td>\n",
       "        </tr>\n",
       "        <tr>\n",
       "            <td>512 </td> <td>Brandon Goodwin</td> <td>PG      </td> <td>Atlanta Hawks        </td> <td>522738 </td> <td>2020  </td>\n",
       "        </tr>\n",
       "        <tr>\n",
       "            <td>510 </td> <td>Chris Clemons  </td> <td>PG      </td> <td>Houston Rockets      </td> <td>563347 </td> <td>2020  </td>\n",
       "        </tr>\n",
       "        <tr>\n",
       "            <td>486 </td> <td>Justin Robinson</td> <td>PG      </td> <td>Washington Wizards   </td> <td>898310 </td> <td>2020  </td>\n",
       "        </tr>\n",
       "        <tr>\n",
       "            <td>490 </td> <td>Jalen Lecque   </td> <td>PG      </td> <td>Phoenix Suns         </td> <td>898310 </td> <td>2020  </td>\n",
       "        </tr>\n",
       "        <tr>\n",
       "            <td>475 </td> <td>Gary Payton II </td> <td>PG      </td> <td>Washington Wizards   </td> <td>1052909</td> <td>2020  </td>\n",
       "        </tr>\n",
       "        <tr>\n",
       "            <td>472 </td> <td>Carsen Edwards </td> <td>PG      </td> <td>Boston Celtics       </td> <td>1228026</td> <td>2020  </td>\n",
       "        </tr>\n",
       "        <tr>\n",
       "            <td>430 </td> <td>Devonte' Graham</td> <td>PG      </td> <td>Charlotte Hornets    </td> <td>1416852</td> <td>2020  </td>\n",
       "        </tr>\n",
       "        <tr>\n",
       "            <td>438 </td> <td>Jevon Carter   </td> <td>PG      </td> <td>Phoenix Suns         </td> <td>1416852</td> <td>2020  </td>\n",
       "        </tr>\n",
       "    </tbody>\n",
       "</table>\n",
       "<p>... (72 rows omitted)</p>"
      ],
      "text/plain": [
       "rank | name            | position | team                  | salary  | season\n",
       "522  | Ky Bowman       | PG       | Golden State Warriors | 350189  | 2020\n",
       "513  | Reggie Jackson  | PG       | LA Clippers           | 512721  | 2020\n",
       "512  | Brandon Goodwin | PG       | Atlanta Hawks         | 522738  | 2020\n",
       "510  | Chris Clemons   | PG       | Houston Rockets       | 563347  | 2020\n",
       "486  | Justin Robinson | PG       | Washington Wizards    | 898310  | 2020\n",
       "490  | Jalen Lecque    | PG       | Phoenix Suns          | 898310  | 2020\n",
       "475  | Gary Payton II  | PG       | Washington Wizards    | 1052909 | 2020\n",
       "472  | Carsen Edwards  | PG       | Boston Celtics        | 1228026 | 2020\n",
       "430  | Devonte' Graham | PG       | Charlotte Hornets     | 1416852 | 2020\n",
       "438  | Jevon Carter    | PG       | Phoenix Suns          | 1416852 | 2020\n",
       "... (72 rows omitted)"
      ]
     },
     "execution_count": 60,
     "metadata": {},
     "output_type": "execute_result"
    }
   ],
   "source": [
    "point_guards_2020.sort('salary')"
   ]
  },
  {
   "cell_type": "code",
   "execution_count": 62,
   "id": "c9b4141c",
   "metadata": {},
   "outputs": [
    {
     "data": {
      "text/html": [
       "<table border=\"1\" class=\"dataframe\">\n",
       "    <thead>\n",
       "        <tr>\n",
       "            <th>rank</th> <th>name</th> <th>position</th> <th>team</th> <th>salary</th> <th>season</th>\n",
       "        </tr>\n",
       "    </thead>\n",
       "    <tbody>\n",
       "        <tr>\n",
       "            <td>185 </td> <td>Trae Young       </td> <td>PG      </td> <td>Atlanta Hawks    </td> <td>6273000 </td> <td>2020  </td>\n",
       "        </tr>\n",
       "        <tr>\n",
       "            <td>512 </td> <td>Brandon Goodwin  </td> <td>PG      </td> <td>Atlanta Hawks    </td> <td>522738  </td> <td>2020  </td>\n",
       "        </tr>\n",
       "        <tr>\n",
       "            <td>14  </td> <td>Kemba Walker     </td> <td>PG      </td> <td>Boston Celtics   </td> <td>32742000</td> <td>2020  </td>\n",
       "        </tr>\n",
       "        <tr>\n",
       "            <td>103 </td> <td>Marcus Smart     </td> <td>PG      </td> <td>Boston Celtics   </td> <td>12553571</td> <td>2020  </td>\n",
       "        </tr>\n",
       "        <tr>\n",
       "            <td>428 </td> <td>Brad Wanamaker   </td> <td>PG      </td> <td>Boston Celtics   </td> <td>1445697 </td> <td>2020  </td>\n",
       "        </tr>\n",
       "        <tr>\n",
       "            <td>472 </td> <td>Carsen Edwards   </td> <td>PG      </td> <td>Boston Celtics   </td> <td>1228026 </td> <td>2020  </td>\n",
       "        </tr>\n",
       "        <tr>\n",
       "            <td>17  </td> <td>Kyrie Irving     </td> <td>PG      </td> <td>Brooklyn Nets    </td> <td>31742000</td> <td>2020  </td>\n",
       "        </tr>\n",
       "        <tr>\n",
       "            <td>122 </td> <td>Spencer Dinwiddie</td> <td>PG      </td> <td>Brooklyn Nets    </td> <td>10605600</td> <td>2020  </td>\n",
       "        </tr>\n",
       "        <tr>\n",
       "            <td>53  </td> <td>Terry Rozier     </td> <td>PG      </td> <td>Charlotte Hornets</td> <td>19894737</td> <td>2020  </td>\n",
       "        </tr>\n",
       "        <tr>\n",
       "            <td>430 </td> <td>Devonte' Graham  </td> <td>PG      </td> <td>Charlotte Hornets</td> <td>1416852 </td> <td>2020  </td>\n",
       "        </tr>\n",
       "    </tbody>\n",
       "</table>\n",
       "<p>... (72 rows omitted)</p>"
      ],
      "text/plain": [
       "rank | name              | position | team              | salary   | season\n",
       "185  | Trae Young        | PG       | Atlanta Hawks     | 6273000  | 2020\n",
       "512  | Brandon Goodwin   | PG       | Atlanta Hawks     | 522738   | 2020\n",
       "14   | Kemba Walker      | PG       | Boston Celtics    | 32742000 | 2020\n",
       "103  | Marcus Smart      | PG       | Boston Celtics    | 12553571 | 2020\n",
       "428  | Brad Wanamaker    | PG       | Boston Celtics    | 1445697  | 2020\n",
       "472  | Carsen Edwards    | PG       | Boston Celtics    | 1228026  | 2020\n",
       "17   | Kyrie Irving      | PG       | Brooklyn Nets     | 31742000 | 2020\n",
       "122  | Spencer Dinwiddie | PG       | Brooklyn Nets     | 10605600 | 2020\n",
       "53   | Terry Rozier      | PG       | Charlotte Hornets | 19894737 | 2020\n",
       "430  | Devonte' Graham   | PG       | Charlotte Hornets | 1416852  | 2020\n",
       "... (72 rows omitted)"
      ]
     },
     "execution_count": 62,
     "metadata": {},
     "output_type": "execute_result"
    }
   ],
   "source": [
    "point_guards_2020.sort(\"team\", descending=False)"
   ]
  },
  {
   "cell_type": "code",
   "execution_count": 63,
   "id": "53f18e0e",
   "metadata": {},
   "outputs": [
    {
     "data": {
      "text/html": [
       "<table border=\"1\" class=\"dataframe\">\n",
       "    <thead>\n",
       "        <tr>\n",
       "            <th>rank</th> <th>name</th> <th>position</th> <th>team</th> <th>salary</th> <th>season</th>\n",
       "        </tr>\n",
       "    </thead>\n",
       "    <tbody>\n",
       "        <tr>\n",
       "            <td>4   </td> <td>John Wall      </td> <td>PG      </td> <td>Washington Wizards</td> <td>38199000</td> <td>2020  </td>\n",
       "        </tr>\n",
       "        <tr>\n",
       "            <td>187 </td> <td>Ish Smith      </td> <td>PG      </td> <td>Washington Wizards</td> <td>6000000 </td> <td>2020  </td>\n",
       "        </tr>\n",
       "        <tr>\n",
       "            <td>341 </td> <td>Shabazz Napier </td> <td>PG      </td> <td>Washington Wizards</td> <td>1845301 </td> <td>2020  </td>\n",
       "        </tr>\n",
       "        <tr>\n",
       "            <td>377 </td> <td>Isaiah Thomas  </td> <td>PG      </td> <td>Washington Wizards</td> <td>1620564 </td> <td>2020  </td>\n",
       "        </tr>\n",
       "        <tr>\n",
       "            <td>475 </td> <td>Gary Payton II </td> <td>PG      </td> <td>Washington Wizards</td> <td>1052909 </td> <td>2020  </td>\n",
       "        </tr>\n",
       "        <tr>\n",
       "            <td>486 </td> <td>Justin Robinson</td> <td>PG      </td> <td>Washington Wizards</td> <td>898310  </td> <td>2020  </td>\n",
       "        </tr>\n",
       "        <tr>\n",
       "            <td>16  </td> <td>Mike Conley    </td> <td>PG      </td> <td>Utah Jazz         </td> <td>32511624</td> <td>2020  </td>\n",
       "        </tr>\n",
       "        <tr>\n",
       "            <td>93  </td> <td>Jordan Clarkson</td> <td>PG      </td> <td>Utah Jazz         </td> <td>13437500</td> <td>2020  </td>\n",
       "        </tr>\n",
       "        <tr>\n",
       "            <td>134 </td> <td>Dante Exum     </td> <td>PG      </td> <td>Utah Jazz         </td> <td>9600000 </td> <td>2020  </td>\n",
       "        </tr>\n",
       "        <tr>\n",
       "            <td>363 </td> <td>Emmanuel Mudiay</td> <td>PG      </td> <td>Utah Jazz         </td> <td>1620564 </td> <td>2020  </td>\n",
       "        </tr>\n",
       "    </tbody>\n",
       "</table>\n",
       "<p>... (72 rows omitted)</p>"
      ],
      "text/plain": [
       "rank | name            | position | team               | salary   | season\n",
       "4    | John Wall       | PG       | Washington Wizards | 38199000 | 2020\n",
       "187  | Ish Smith       | PG       | Washington Wizards | 6000000  | 2020\n",
       "341  | Shabazz Napier  | PG       | Washington Wizards | 1845301  | 2020\n",
       "377  | Isaiah Thomas   | PG       | Washington Wizards | 1620564  | 2020\n",
       "475  | Gary Payton II  | PG       | Washington Wizards | 1052909  | 2020\n",
       "486  | Justin Robinson | PG       | Washington Wizards | 898310   | 2020\n",
       "16   | Mike Conley     | PG       | Utah Jazz          | 32511624 | 2020\n",
       "93   | Jordan Clarkson | PG       | Utah Jazz          | 13437500 | 2020\n",
       "134  | Dante Exum      | PG       | Utah Jazz          | 9600000  | 2020\n",
       "363  | Emmanuel Mudiay | PG       | Utah Jazz          | 1620564  | 2020\n",
       "... (72 rows omitted)"
      ]
     },
     "execution_count": 63,
     "metadata": {},
     "output_type": "execute_result"
    }
   ],
   "source": [
    "point_guards_2020.sort(\"team\", descending=True)"
   ]
  },
  {
   "cell_type": "code",
   "execution_count": 64,
   "id": "865a5304",
   "metadata": {},
   "outputs": [
    {
     "data": {
      "text/html": [
       "<table border=\"1\" class=\"dataframe\">\n",
       "    <thead>\n",
       "        <tr>\n",
       "            <th>rank</th> <th>name</th> <th>position</th> <th>team</th> <th>salary</th> <th>season</th>\n",
       "        </tr>\n",
       "    </thead>\n",
       "    <tbody>\n",
       "        <tr>\n",
       "            <td>4   </td> <td>John Wall     </td> <td>PG      </td> <td>Washington Wizards</td> <td>38199000</td> <td>2020  </td>\n",
       "        </tr>\n",
       "        <tr>\n",
       "            <td>187 </td> <td>Ish Smith     </td> <td>PG      </td> <td>Washington Wizards</td> <td>6000000 </td> <td>2020  </td>\n",
       "        </tr>\n",
       "        <tr>\n",
       "            <td>341 </td> <td>Shabazz Napier</td> <td>PG      </td> <td>Washington Wizards</td> <td>1845301 </td> <td>2020  </td>\n",
       "        </tr>\n",
       "        <tr>\n",
       "            <td>377 </td> <td>Isaiah Thomas </td> <td>PG      </td> <td>Washington Wizards</td> <td>1620564 </td> <td>2020  </td>\n",
       "        </tr>\n",
       "        <tr>\n",
       "            <td>475 </td> <td>Gary Payton II</td> <td>PG      </td> <td>Washington Wizards</td> <td>1052909 </td> <td>2020  </td>\n",
       "        </tr>\n",
       "    </tbody>\n",
       "</table>\n",
       "<p>... (77 rows omitted)</p>"
      ],
      "text/plain": [
       "<IPython.core.display.HTML object>"
      ]
     },
     "metadata": {},
     "output_type": "display_data"
    }
   ],
   "source": [
    "point_guards_2020.sort(\"team\", descending=True).show(5)"
   ]
  },
  {
   "cell_type": "code",
   "execution_count": 66,
   "id": "211a7064",
   "metadata": {},
   "outputs": [],
   "source": [
    "point_guards_2019 = nba.where('position', 'PG').where('season', 2019)"
   ]
  },
  {
   "cell_type": "code",
   "execution_count": 67,
   "id": "e070df63",
   "metadata": {},
   "outputs": [
    {
     "data": {
      "text/html": [
       "<table border=\"1\" class=\"dataframe\">\n",
       "    <thead>\n",
       "        <tr>\n",
       "            <th>rank</th> <th>name</th> <th>position</th> <th>team</th> <th>salary</th> <th>season</th>\n",
       "        </tr>\n",
       "    </thead>\n",
       "    <tbody>\n",
       "        <tr>\n",
       "            <td>1   </td> <td>Stephen Curry    </td> <td>PG      </td> <td>Golden State Warriors </td> <td>37457154</td> <td>2019  </td>\n",
       "        </tr>\n",
       "        <tr>\n",
       "            <td>2   </td> <td>Chris Paul       </td> <td>PG      </td> <td>Houston Rockets       </td> <td>35654150</td> <td>2019  </td>\n",
       "        </tr>\n",
       "        <tr>\n",
       "            <td>4   </td> <td>Russell Westbrook</td> <td>PG      </td> <td>Oklahoma City Thunder </td> <td>35654150</td> <td>2019  </td>\n",
       "        </tr>\n",
       "        <tr>\n",
       "            <td>7   </td> <td>Kyle Lowry       </td> <td>PG      </td> <td>Toronto Raptors       </td> <td>31200000</td> <td>2019  </td>\n",
       "        </tr>\n",
       "        <tr>\n",
       "            <td>9   </td> <td>Mike Conley      </td> <td>PG      </td> <td>Memphis Grizzlies     </td> <td>30521115</td> <td>2019  </td>\n",
       "        </tr>\n",
       "        <tr>\n",
       "            <td>14  </td> <td>Damian Lillard   </td> <td>PG      </td> <td>Portland Trail Blazers</td> <td>27977689</td> <td>2019  </td>\n",
       "        </tr>\n",
       "        <tr>\n",
       "            <td>43  </td> <td>Kyrie Irving     </td> <td>PG      </td> <td>Boston Celtics        </td> <td>20099189</td> <td>2019  </td>\n",
       "        </tr>\n",
       "        <tr>\n",
       "            <td>45  </td> <td>Zach LaVine      </td> <td>PG      </td> <td>Chicago Bulls         </td> <td>19500000</td> <td>2019  </td>\n",
       "        </tr>\n",
       "        <tr>\n",
       "            <td>48  </td> <td>John Wall        </td> <td>PG      </td> <td>Washington Wizards    </td> <td>19169800</td> <td>2019  </td>\n",
       "        </tr>\n",
       "        <tr>\n",
       "            <td>49  </td> <td>George Hill      </td> <td>PG      </td> <td>Milwaukee Bucks       </td> <td>19000000</td> <td>2019  </td>\n",
       "        </tr>\n",
       "    </tbody>\n",
       "</table>\n",
       "<p>... (65 rows omitted)</p>"
      ],
      "text/plain": [
       "rank | name              | position | team                   | salary   | season\n",
       "1    | Stephen Curry     | PG       | Golden State Warriors  | 37457154 | 2019\n",
       "2    | Chris Paul        | PG       | Houston Rockets        | 35654150 | 2019\n",
       "4    | Russell Westbrook | PG       | Oklahoma City Thunder  | 35654150 | 2019\n",
       "7    | Kyle Lowry        | PG       | Toronto Raptors        | 31200000 | 2019\n",
       "9    | Mike Conley       | PG       | Memphis Grizzlies      | 30521115 | 2019\n",
       "14   | Damian Lillard    | PG       | Portland Trail Blazers | 27977689 | 2019\n",
       "43   | Kyrie Irving      | PG       | Boston Celtics         | 20099189 | 2019\n",
       "45   | Zach LaVine       | PG       | Chicago Bulls          | 19500000 | 2019\n",
       "48   | John Wall         | PG       | Washington Wizards     | 19169800 | 2019\n",
       "49   | George Hill       | PG       | Milwaukee Bucks        | 19000000 | 2019\n",
       "... (65 rows omitted)"
      ]
     },
     "execution_count": 67,
     "metadata": {},
     "output_type": "execute_result"
    }
   ],
   "source": [
    "point_guards_2019"
   ]
  },
  {
   "cell_type": "code",
   "execution_count": null,
   "id": "d833aa7f",
   "metadata": {},
   "outputs": [],
   "source": []
  }
 ],
 "metadata": {
  "kernelspec": {
   "display_name": "Python 3 (ipykernel)",
   "language": "python",
   "name": "python3"
  },
  "language_info": {
   "codemirror_mode": {
    "name": "ipython",
    "version": 3
   },
   "file_extension": ".py",
   "mimetype": "text/x-python",
   "name": "python",
   "nbconvert_exporter": "python",
   "pygments_lexer": "ipython3",
   "version": "3.10.11"
  }
 },
 "nbformat": 4,
 "nbformat_minor": 5
}
